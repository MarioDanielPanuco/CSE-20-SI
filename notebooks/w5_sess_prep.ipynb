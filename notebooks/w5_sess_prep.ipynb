{
 "cells": [
  {
   "cell_type": "markdown",
   "source": [
    "## Strings !!\n",
    "\n",
    "- Don't need to know every method that exists for Python string objects, but you should have general patterns or strategies for string manipulation and parsing.\n",
    "- You can do everything within a loop and check characters one by one; alternatively you can use find a Pythonic solution like using token()"
   ],
   "metadata": {
    "collapsed": false
   }
  },
  {
   "cell_type": "markdown",
   "source": [
    "## Challenge\n",
    "Write an email using the format method, accepting the variables Destination Name, Destination Address, Date, Source Name, Source Address, and the email message body"
   ],
   "metadata": {
    "collapsed": false
   }
  },
  {
   "cell_type": "code",
   "execution_count": 10,
   "outputs": [],
   "source": [
    "format_str = \"\"\n",
    "\n",
    "# print()"
   ],
   "metadata": {
    "collapsed": false
   }
  },
  {
   "cell_type": "markdown",
   "source": [
    "## Fill in the blank"
   ],
   "metadata": {
    "collapsed": false
   }
  },
  {
   "cell_type": "code",
   "execution_count": 11,
   "metadata": {
    "collapsed": true
   },
   "outputs": [
    {
     "name": "stdout",
     "output_type": "stream",
     "text": [
      "True\n",
      "False\n"
     ]
    }
   ],
   "source": [
    "#def is_mul10(l: list):\n",
    "    # We want to iterate through the list somehow\n",
    "    # This allows us to check a condition on ALL objects in the list\n",
    "\n",
    "    #for _COND_1_:\n",
    "        #if _COND_2_:\n",
    "            #return _T/F_\n",
    "    #return _T/F_\n",
    "\n",
    "def isMUL(num: int):\n",
    "    if num % 10 == 0:\n",
    "        return True\n",
    "    else:\n",
    "        return False\n",
    "\n",
    "# Functional solution, not necessarily the most Pythonic solution\n",
    "nums_1 = [10,20,30,40]\n",
    "nums_2 = [10,22,30,40]\n",
    "print(all(num %10==0 for num in nums_1))\n",
    "print(all(num %10==0 for num in nums_2))\n"
   ]
  },
  {
   "cell_type": "markdown",
   "source": [
    "### Remark:\n",
    "This type of algorithmic thinking can be leveraged by functional languages (or languages with 'functional' features) like Rust, Haskell, and Python\n",
    "See: [Python Examples of functional language features](https://docs.python.org/3/howto/functional.html)"
   ],
   "metadata": {
    "collapsed": false
   }
  },
  {
   "cell_type": "markdown",
   "source": [
    "## If an even number of students attend\n",
    "Try to write a challenge for the other student using the string functions: isupper(), isnumeric(),"
   ],
   "metadata": {
    "collapsed": false
   }
  },
  {
   "cell_type": "code",
   "execution_count": 11,
   "outputs": [],
   "source": [],
   "metadata": {
    "collapsed": false
   }
  },
  {
   "cell_type": "markdown",
   "source": [
    "# Reflection Sunday\n",
    "I wasn't able to cover as much material as I planned for the session, as it was an individual session. This meant I was able to closely work on a problem with a student, but"
   ],
   "metadata": {
    "collapsed": false
   }
  },
  {
   "cell_type": "code",
   "execution_count": 11,
   "outputs": [],
   "source": [],
   "metadata": {
    "collapsed": false
   }
  }
 ],
 "metadata": {
  "kernelspec": {
   "display_name": "Python 3",
   "language": "python",
   "name": "python3"
  },
  "language_info": {
   "codemirror_mode": {
    "name": "ipython",
    "version": 2
   },
   "file_extension": ".py",
   "mimetype": "text/x-python",
   "name": "python",
   "nbconvert_exporter": "python",
   "pygments_lexer": "ipython2",
   "version": "2.7.6"
  }
 },
 "nbformat": 4,
 "nbformat_minor": 0
}
