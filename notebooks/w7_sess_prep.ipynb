{
 "cells": [
  {
   "cell_type": "markdown",
   "source": [
    "# Week 7: Files and Modules\n",
    "- This week covers useful material for structuring a complex project that requires you to write local library modules and interact with files.\n",
    "- Reading/Writing from files is used by my computer systems as a communication link between different processes\n"
   ],
   "metadata": {
    "collapsed": false
   }
  },
  {
   "cell_type": "markdown",
   "source": [
    "## UNIX breakdown\n",
    "- UCSC's student UNIX servers are a great way of interacting with a UNIX environment\n",
    "- [UCSC ITS instructions on connecting to UNIX timeshare](https://its.ucsc.edu/unix-timeshare/tutorials/how-to-connect.html)\n",
    "\n",
    "The shell/terminal is useful for computer science students because it allows them to perform a wide variety of tasks quickly and efficiently, without having to navigate through graphical interfaces or menus. Some common tasks that students might use the terminal for include:\n",
    "\n",
    "- Compiling and running programs written in C or other languages\n",
    "- Manipulating files and directories, such as creating, deleting, and moving files\n",
    "- Navigating the file system and examining the contents of files\n",
    "- Managing system resources, such as starting and stopping processes\n",
    "\n",
    "While Python is a high-level language and most of the programming work can be done within an IDE, understanding the UNIX ecosystem and using the shell/terminal can still be valuable for computer science students. For example, some Python libraries might require students to use the terminal to install them or to run scripts. Additionally, students may need to interact with the system directly for tasks like debugging or performance tuning.\n",
    "\n"
   ],
   "metadata": {
    "collapsed": false
   }
  },
  {
   "cell_type": "code",
   "execution_count": 9,
   "metadata": {
    "collapsed": true
   },
   "outputs": [],
   "source": [
    "# Below we are calling open on the file pathname and setting the writing permissions\n",
    "file_pathname = 'report.txt'\n",
    "permissions = 'w'\n",
    "my_file = open(file_pathname, permissions)\n",
    "# open returns a 'file handle' we can use to perform operations like write/read to the file\n",
    "\n",
    "my_file.close()\n"
   ]
  },
  {
   "cell_type": "markdown",
   "source": [
    "### Files\n",
    "- You use files to debug\n",
    "  - try writing your programs with 2 files, one called standard_out which you can use for normal printing, and another called stderr where can send error messages or debugging messages"
   ],
   "metadata": {
    "collapsed": false
   }
  },
  {
   "cell_type": "markdown",
   "source": [
    "Working with CSV files:\n",
    "[CSV Docs](https://docs.python.org/3.10/library/csv.html)"
   ],
   "metadata": {
    "collapsed": false
   }
  },
  {
   "cell_type": "markdown",
   "source": [
    "This Python code reads a CSV file and stores each row of the file in a LineHolder object. The code uses the built-in open function to open the file and the csv module to parse the file."
   ],
   "metadata": {
    "collapsed": false
   }
  },
  {
   "cell_type": "code",
   "execution_count": 10,
   "outputs": [
    {
     "name": "stdout",
     "output_type": "stream",
     "text": [
      "0:  [\"(6) Lady Lovelace's Objection\"]\n",
      "1:  [\"Our most detailed information of Babbage's Analytical Engine comes from a memoir by \"]\n",
      "2:  ['Lady Lovelace ( 1842). In it she states', ' \"The Analytical Engine has no pretensions to ']\n",
      "3:  ['originate anything. It can do whatever we know how to order it to perform\" (her italics). ']\n",
      "4:  ['This statement is quoted by Hartree ( 1949) who adds: \"This does not imply that it may ']\n",
      "5:  [\"not be possible to construct electronic equipment which will 'think for itself\", \"' or in which\", ' ']\n",
      "6:  ['in biological terms', ' one could set up a conditioned reflex', ' which would serve as a basis ']\n",
      "7:  [\"for 'learning.' Whether this is possible in principle or not is a stimulating and exciting \"]\n",
      "8:  ['question', ' suggested by some of these recent developments But it did not seem that the ']\n",
      "9:  ['machines constructed or projected at the time had this property.\" ']\n",
      "10:  ['I am in thorough agreement with Hartree over this. It will be noticed that he does not ']\n",
      "11:  ['assert that the machines in question had not got the property', ' but rather that the evidence ']\n",
      "12:  ['available to Lady Lovelace did not encourage her to believe that they had it. It is quite ']\n",
      "13:  ['possible that the machines in question had in a sense got this property. For suppose that ']\n",
      "14:  ['some discrete-state machine has the property. The Analytical Engine was a universal ']\n",
      "15:  ['digital computer', ' so that', ' if its storage capacity and speed were adequate', ' it could by ']\n",
      "16:  ['suitable programming be made to mimic the machine in question. Probably this argument ']\n",
      "17:  ['did not occur to the Countess or to Babbage. In any case there was no obligation on them ']\n",
      "18:  ['to claim all that could be claimed. ']\n",
      "19:  ['This whole question will be considered again under the heading of learning machines. ']\n",
      "20:  ['A variant of Lady Lovelace\\'s objection states that a machine can \"never do anything ']\n",
      "21:  ['really new.\" This may be parried for a moment with the saw', ' \"There is nothing new under ']\n",
      "22:  ['the sun.\" Who can be certain that \"original work\" that he has done was not simply the ']\n",
      "23:  ['growth of the seed planted in him by teaching', ' or the effect of following well-known ']\n",
      "24:  ['general principles. A better variant of the objection says that a machine can never \"take ']\n",
      "25:  ['us by surprise.\" This statement is a more direct challenge and can be met directly. ']\n",
      "26:  ['Machines take me by surprise with great frequency. This is largely because I do not do ']\n",
      "27:  ['sufficient calculation to decide what to expect them to do', ' or rather because', ' although I ']\n",
      "28:  ['do a calculation', ' I do it in a hurried', ' slipshod fashion', ' taking risks. Perhaps I say to ']\n",
      "29:  ['myself', ' \"I suppose the Voltage here ought to he the same as there: anyway let\\'s assume it ']\n",
      "30:  ['is.\" Naturally I am often wrong', ' and the result is a surprise for me for by the time the ']\n",
      "31:  ['experiment is done these assumptions have been forgotten. These admissions lay me ']\n",
      "32:  ['open to lectures on the subject of my vicious ways', ' but do not throw any doubt on my ']\n",
      "33:  ['credibility when I testify to the surprises I experience. ']\n",
      "34:  ['I do not expect this reply to silence my critic. He will probably say that h surprises are ']\n",
      "35:  ['due to some creative mental act on my part', ' and reflect no credit on the machine. This ']\n",
      "36:  ['leads us back to the argument from consciousness', ' and far from the idea of surprise. It is ']\n",
      "37:  ['a line of argument we must consider closed', ' but it is perhaps worth remarking that the ']\n",
      "38:  ['appreciation of something as surprising requires as much of a \"creative mental act\" ']\n",
      "39:  ['whether the surprising event originates from a man', ' a book', ' a machine or anything else. ']\n",
      "40:  ['The view that machines cannot give rise to surprises is due', ' I believe', ' to a fallacy to ']\n",
      "41:  ['which philosophers and mathematicians are particularly subject. This is the assumption ']\n",
      "42:  ['that as soon as a fact is presented to a mind all consequences of that fact spring into the ']\n",
      "43:  ['mind simultaneously with it. It is a very useful assumption under many circumstances', ' ']\n",
      "44:  ['but one too easily forgets that it is false. A natural consequence of doing so is that one ']\n",
      "45:  ['then assumes that there is no virtue in the mere working out of consequences from data ']\n",
      "46:  ['and general principles. ']\n",
      "\n",
      "All lines in the file:\n",
      "[\"(6) Lady Lovelace's Objection\"]\n",
      "[\"Our most detailed information of Babbage's Analytical Engine comes from a memoir by \"]\n",
      "['Lady Lovelace ( 1842). In it she states', ' \"The Analytical Engine has no pretensions to ']\n",
      "['originate anything. It can do whatever we know how to order it to perform\" (her italics). ']\n",
      "['This statement is quoted by Hartree ( 1949) who adds: \"This does not imply that it may ']\n",
      "[\"not be possible to construct electronic equipment which will 'think for itself\", \"' or in which\", ' ']\n",
      "['in biological terms', ' one could set up a conditioned reflex', ' which would serve as a basis ']\n",
      "[\"for 'learning.' Whether this is possible in principle or not is a stimulating and exciting \"]\n",
      "['question', ' suggested by some of these recent developments But it did not seem that the ']\n",
      "['machines constructed or projected at the time had this property.\" ']\n",
      "['I am in thorough agreement with Hartree over this. It will be noticed that he does not ']\n",
      "['assert that the machines in question had not got the property', ' but rather that the evidence ']\n",
      "['available to Lady Lovelace did not encourage her to believe that they had it. It is quite ']\n",
      "['possible that the machines in question had in a sense got this property. For suppose that ']\n",
      "['some discrete-state machine has the property. The Analytical Engine was a universal ']\n",
      "['digital computer', ' so that', ' if its storage capacity and speed were adequate', ' it could by ']\n",
      "['suitable programming be made to mimic the machine in question. Probably this argument ']\n",
      "['did not occur to the Countess or to Babbage. In any case there was no obligation on them ']\n",
      "['to claim all that could be claimed. ']\n",
      "['This whole question will be considered again under the heading of learning machines. ']\n",
      "['A variant of Lady Lovelace\\'s objection states that a machine can \"never do anything ']\n",
      "['really new.\" This may be parried for a moment with the saw', ' \"There is nothing new under ']\n",
      "['the sun.\" Who can be certain that \"original work\" that he has done was not simply the ']\n",
      "['growth of the seed planted in him by teaching', ' or the effect of following well-known ']\n",
      "['general principles. A better variant of the objection says that a machine can never \"take ']\n",
      "['us by surprise.\" This statement is a more direct challenge and can be met directly. ']\n",
      "['Machines take me by surprise with great frequency. This is largely because I do not do ']\n",
      "['sufficient calculation to decide what to expect them to do', ' or rather because', ' although I ']\n",
      "['do a calculation', ' I do it in a hurried', ' slipshod fashion', ' taking risks. Perhaps I say to ']\n",
      "['myself', ' \"I suppose the Voltage here ought to he the same as there: anyway let\\'s assume it ']\n",
      "['is.\" Naturally I am often wrong', ' and the result is a surprise for me for by the time the ']\n",
      "['experiment is done these assumptions have been forgotten. These admissions lay me ']\n",
      "['open to lectures on the subject of my vicious ways', ' but do not throw any doubt on my ']\n",
      "['credibility when I testify to the surprises I experience. ']\n",
      "['I do not expect this reply to silence my critic. He will probably say that h surprises are ']\n",
      "['due to some creative mental act on my part', ' and reflect no credit on the machine. This ']\n",
      "['leads us back to the argument from consciousness', ' and far from the idea of surprise. It is ']\n",
      "['a line of argument we must consider closed', ' but it is perhaps worth remarking that the ']\n",
      "['appreciation of something as surprising requires as much of a \"creative mental act\" ']\n",
      "['whether the surprising event originates from a man', ' a book', ' a machine or anything else. ']\n",
      "['The view that machines cannot give rise to surprises is due', ' I believe', ' to a fallacy to ']\n",
      "['which philosophers and mathematicians are particularly subject. This is the assumption ']\n",
      "['that as soon as a fact is presented to a mind all consequences of that fact spring into the ']\n",
      "['mind simultaneously with it. It is a very useful assumption under many circumstances', ' ']\n",
      "['but one too easily forgets that it is false. A natural consequence of doing so is that one ']\n",
      "['then assumes that there is no virtue in the mere working out of consequences from data ']\n",
      "['and general principles. ']\n"
     ]
    }
   ],
   "source": [
    "import csv\n",
    "\n",
    "class LineHolder:\n",
    "    def __init__(self):\n",
    "        self.lines = []\n",
    "\n",
    "    def parse_line(self, line):\n",
    "        self.lines.append(line)\n",
    "\n",
    "# Get the file name from user input\n",
    "file_name = input(\"Enter the name of the CSV file: \")\n",
    "\n",
    "# Open the file for reading and create a CSV reader object\n",
    "with open(file_name, 'r') as file:\n",
    "    csv_reader = csv.reader(file)\n",
    "\n",
    "    # Create a LineHolder object to hold the rows of the CSV file\n",
    "    lh = LineHolder()\n",
    "\n",
    "    # Iterate over each row in the CSV file\n",
    "    for index, row in enumerate(csv_reader):\n",
    "        lh.parse_line(row)\n",
    "\n",
    "        # Print each row for debugging purposes\n",
    "        print(f\"{index}: \", row)\n",
    "\n",
    "# Print the lines in the LineHolder object\n",
    "print(\"\\nAll lines in the file:\")\n",
    "for line in lh.lines:\n",
    "    print(line)"
   ],
   "metadata": {
    "collapsed": false
   }
  },
  {
   "cell_type": "markdown",
   "source": [
    "### How the code works\n",
    "The code prompts the user to enter the name of a CSV file. It then opens the file using the open function and creates a csv.reader object from the file.\n",
    "\n",
    "A LineHolder object is created to hold the rows of the CSV file. The code then iterates over each row in the CSV file, parses the row using the parse_line method of the LineHolder object, and prints each row for debugging purposes.\n",
    "\n",
    "Finally, the code prints all lines in the LineHolder object by iterating over its lines attribute.\n",
    "\n",
    "### Expanding the code\n",
    "Students can expand this code to perform various tasks on the CSV file. Here are some ideas:\n",
    "\n",
    "- Filtering rows based on a condition: Students can add a method to the LineHolder class to filter rows based on a condition. For example, they could filter out rows that do not meet a certain criteria, or extract rows that contain certain keywords.\n",
    "\n",
    "- Computing statistics: Students can add a method to the LineHolder class to compute statistics on the CSV file. For example, they could compute the mean or median of a certain column, or count the number of rows that meet a certain criteria.\n",
    "\n",
    "- Writing to a new file: Students can modify the code to write the contents of the LineHolder object to a new CSV file. They can use the csv.writer class to write rows to the new file.\n",
    "\n",
    "- Using command-line arguments: Students can modify the code to take the name of the CSV file as a command-line argument, rather than prompting the user to enter it. They can use the argparse module to parse command-line arguments.\n",
    "\n",
    "- Handling different types of delimiters: By default, the csv.reader class assumes that CSV files are comma-separated. However, students can modify the code to handle different types of delimiters, such as tab-separated or pipe-separated values. They can use the csv.Dialect class to define a new dialect for the CSV file.\n",
    "\n"
   ],
   "metadata": {
    "collapsed": false
   }
  },
  {
   "cell_type": "markdown",
   "source": [
    "# Code scramble challenge\n",
    "- The following code block contains all the code needed for the following challenge. It's up to you to put in the right order.\n",
    "### Prompt\n",
    "Say we are given a csv file that contains the information about airplanes in the following syntax in csv. Syntax: AIRPLANE_MODEL, COST_PER_KG_GAS. We want to parse this for the information and create a dictionary where they key is the AIRPLANE_MODEL and the value is COST_PER_KG_GAS. After we create that dictionary we then want to create a list that holds a tuple of the AIRPLANE_MODEL, COST_PER_KG_GAS sorted in ascending order of COST_PER_KG_GAS."
   ],
   "metadata": {
    "collapsed": false
   }
  },
  {
   "cell_type": "code",
   "execution_count": 17,
   "outputs": [
    {
     "ename": "IndentationError",
     "evalue": "unindent does not match any outer indentation level (<tokenize>, line 5)",
     "output_type": "error",
     "traceback": [
      "\u001B[1;36m  File \u001B[1;32m<tokenize>:5\u001B[1;36m\u001B[0m\n\u001B[1;33m    for row in reader:\u001B[0m\n\u001B[1;37m    ^\u001B[0m\n\u001B[1;31mIndentationError\u001B[0m\u001B[1;31m:\u001B[0m unindent does not match any outer indentation level\n"
     ]
    }
   ],
   "source": [
    "\n",
    "\n",
    "sorted_planes = sorted(planes.items(), key=lambda x: x[1])\n",
    "import csv\n",
    "\n",
    "        planes[row[0]] = float(row[1])\n",
    "    for row in reader:\n",
    "\n",
    "planes = {}\n",
    "print(sorted_planes)\n",
    "\n",
    "with open('planes.csv', newline='') as csvfile:\n",
    "    reader = csv.reader(csvfile)"
   ],
   "metadata": {
    "collapsed": false
   }
  },
  {
   "cell_type": "markdown",
   "source": [],
   "metadata": {
    "collapsed": false
   }
  },
  {
   "cell_type": "markdown",
   "source": [],
   "metadata": {
    "collapsed": false
   }
  }
 ],
 "metadata": {
  "kernelspec": {
   "display_name": "Python 3",
   "language": "python",
   "name": "python3"
  },
  "language_info": {
   "codemirror_mode": {
    "name": "ipython",
    "version": 2
   },
   "file_extension": ".py",
   "mimetype": "text/x-python",
   "name": "python",
   "nbconvert_exporter": "python",
   "pygments_lexer": "ipython2",
   "version": "2.7.6"
  }
 },
 "nbformat": 4,
 "nbformat_minor": 0
}
