{
 "cells": [
  {
   "cell_type": "code",
   "execution_count": 8,
   "metadata": {
    "collapsed": true
   },
   "outputs": [
    {
     "name": "stdout",
     "output_type": "stream",
     "text": [
      "1, A\n",
      "1, B\n",
      "1, C\n",
      "2, D\n",
      "2, E\n",
      "2, F\n",
      "3, G\n",
      "3, H\n",
      "3, I\n",
      "4, J\n",
      "4, K\n",
      "4, L\n"
     ]
    }
   ],
   "source": [
    "num_cols = 3\n",
    "num_rows = 4\n",
    "c='A'\n",
    "for i in range(num_rows ):\n",
    "    for j in range(num_cols):\n",
    "        print(f'{i+1}, {c}')\n",
    "        c = chr(ord(c) + 1)\n"
   ]
  },
  {
   "cell_type": "code",
   "execution_count": null,
   "outputs": [],
   "source": [],
   "metadata": {
    "collapsed": false
   }
  }
 ],
 "metadata": {
  "kernelspec": {
   "display_name": "Python 3",
   "language": "python",
   "name": "python3"
  },
  "language_info": {
   "codemirror_mode": {
    "name": "ipython",
    "version": 2
   },
   "file_extension": ".py",
   "mimetype": "text/x-python",
   "name": "python",
   "nbconvert_exporter": "python",
   "pygments_lexer": "ipython2",
   "version": "2.7.6"
  }
 },
 "nbformat": 4,
 "nbformat_minor": 0
}
