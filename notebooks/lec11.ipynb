{
 "cells": [
  {
   "cell_type": "markdown",
   "source": [
    "# Lecture 11 - Modules and Files\n",
    "-"
   ],
   "metadata": {
    "collapsed": false
   }
  },
  {
   "cell_type": "code",
   "execution_count": null,
   "metadata": {
    "collapsed": true
   },
   "outputs": [],
   "source": [
    "# Importing all functions from a module\n",
    "from random import *\n",
    "\n",
    "# Often-times you want to import only the functions you use"
   ]
  },
  {
   "cell_type": "markdown",
   "source": [],
   "metadata": {
    "collapsed": false
   }
  },
  {
   "cell_type": "markdown",
   "source": [
    "# main\n",
    "- Mains are useful when you are writing multiple Python files and only want a section of code to run per file when you run the respective file module\n",
    "- When the interpreter runs a Python file directly, it sets the __name__ to main, which allows up to section our code into helper functions, setting constants, and an actual runtime area for our program"
   ],
   "metadata": {
    "collapsed": false
   }
  },
  {
   "cell_type": "code",
   "execution_count": 12,
   "outputs": [],
   "source": [
    "def main():\"\"\" We write our code within this main function\"\"\"\n",
    "\n",
    "if __name__ == '__main__':\n",
    "    main()\n"
   ],
   "metadata": {
    "collapsed": false
   }
  },
  {
   "cell_type": "markdown",
   "source": [
    "## Formatting\n",
    "- Whitespace between functions or sections of code\n",
    "  - Helps with readability and debugging\n",
    "- Pick either snakecase or camelcase for variable naming\n",
    "- [Python Style Guide](https://www.python.org/dev/peps/pep-0008/)"
   ],
   "metadata": {
    "collapsed": false
   }
  },
  {
   "cell_type": "markdown",
   "source": [
    "## Files\n",
    "- Now that we've covered how to structure a file, for the purposes of using that code in that file within a large project structure, we can cover IN/OUT manipulation of files (text/binary)\n",
    "- You can find all the permission types for open here: [Open reference docs](https://docs.python.org/3.10/library/functions.html#open)"
   ],
   "metadata": {
    "collapsed": false
   }
  },
  {
   "cell_type": "code",
   "execution_count": 14,
   "outputs": [],
   "source": [
    "# Below we are calling open on the file pathname and setting the writing permissions\n",
    "file_pathname = 'report.txt'\n",
    "permissions = 'w'\n",
    "my_file = open(file_pathname, permissions)\n",
    "# open returns a 'file handle' we can use to perform operations like write/read to the file\n",
    "my_file.close()\n"
   ],
   "metadata": {
    "collapsed": false
   }
  },
  {
   "cell_type": "markdown",
   "source": [
    "# 'with' keyword\n",
    "- Lets you create a specified scope for the file handle to live in, without using file_handle.close() to end the scope\n"
   ],
   "metadata": {
    "collapsed": false
   }
  },
  {
   "cell_type": "code",
   "execution_count": null,
   "outputs": [],
   "source": [],
   "metadata": {
    "collapsed": false
   }
  },
  {
   "cell_type": "code",
   "execution_count": null,
   "outputs": [],
   "source": [
    "with open(file_pathname) as write_file:\n",
    "    write_file.write(\"test output\")\n"
   ],
   "metadata": {
    "collapsed": false
   }
  },
  {
   "cell_type": "markdown",
   "source": [
    "## Directories\n",
    "-"
   ],
   "metadata": {
    "collapsed": false
   }
  },
  {
   "cell_type": "code",
   "execution_count": null,
   "outputs": [],
   "source": [],
   "metadata": {
    "collapsed": false
   }
  },
  {
   "cell_type": "markdown",
   "source": [],
   "metadata": {
    "collapsed": false
   }
  }
 ],
 "metadata": {
  "kernelspec": {
   "display_name": "Python 3",
   "language": "python",
   "name": "python3"
  },
  "language_info": {
   "codemirror_mode": {
    "name": "ipython",
    "version": 2
   },
   "file_extension": ".py",
   "mimetype": "text/x-python",
   "name": "python",
   "nbconvert_exporter": "python",
   "pygments_lexer": "ipython2",
   "version": "2.7.6"
  }
 },
 "nbformat": 4,
 "nbformat_minor": 0
}
