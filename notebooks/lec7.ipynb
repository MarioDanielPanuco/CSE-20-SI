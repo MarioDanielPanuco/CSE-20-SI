{
 "cells": [
  {
   "cell_type": "markdown",
   "source": [
    "## Functions\n",
    "\n",
    "- You can include optional arguments to function\n",
    "- For the most part we want to specify the arguments of a function when we call it, so we don't need default argument values"
   ],
   "metadata": {
    "collapsed": false
   }
  },
  {
   "cell_type": "code",
   "execution_count": 1,
   "outputs": [],
   "source": [
    "# x + y where y = 5 no value is passed for the argument y\n",
    "\n",
    "def sum(x, y=5):\n",
    "    return x + y"
   ],
   "metadata": {
    "collapsed": false
   }
  },
  {
   "cell_type": "markdown",
   "source": [
    "## The stack\n",
    "When a function calls another function it puts the location of where it returns after the second function in something called a stack. Along with that value it also puts the location of the second function as well as the arguments of the second function in a stack\n",
    "\n",
    "For more information: https://www.geeksforgeeks.org/stack-in-python/"
   ],
   "metadata": {
    "collapsed": false
   }
  },
  {
   "cell_type": "markdown",
   "source": [
    "## Namespace\n",
    "- A set of mapped named->values.\n",
    "- examples: variables that are set to a constant and functions that have a name that includes their specified arguments"
   ],
   "metadata": {
    "collapsed": false
   }
  },
  {
   "cell_type": "markdown",
   "source": [
    "## Scope\n",
    "- names only exist in their scope, if you define a function within another function, that function can only be used within the scope of the first one\n",
    "    example"
   ],
   "metadata": {
    "collapsed": false
   }
  },
  {
   "cell_type": "code",
   "execution_count": 2,
   "outputs": [
    {
     "ename": "NameError",
     "evalue": "name 'helper' is not defined",
     "output_type": "error",
     "traceback": [
      "\u001B[1;31m---------------------------------------------------------------------------\u001B[0m",
      "\u001B[1;31mNameError\u001B[0m                                 Traceback (most recent call last)",
      "Cell \u001B[1;32mIn[2], line 7\u001B[0m\n\u001B[0;32m      4\u001B[0m     \u001B[38;5;28;01mreturn\u001B[39;00m helper(x,y)\n\u001B[0;32m      6\u001B[0m \u001B[38;5;66;03m# This following to helper fails because it isn't in the global scope but in the process() function's scope\u001B[39;00m\n\u001B[1;32m----> 7\u001B[0m \u001B[43mhelper\u001B[49m(\u001B[38;5;241m3\u001B[39m,\u001B[38;5;241m3\u001B[39m)\n",
      "\u001B[1;31mNameError\u001B[0m: name 'helper' is not defined"
     ]
    }
   ],
   "source": [
    "def process(x, y):\n",
    "    def helper(x,y):\n",
    "        return x + y\n",
    "    return helper(x,y)\n",
    "\n",
    "# This following to helper fails because it isn't in the global scope but in the process() function's scope\n",
    "helper(3,3)"
   ],
   "metadata": {
    "collapsed": false
   }
  },
  {
   "cell_type": "markdown",
   "source": [
    "If you want to initialize a value within a smaller scope than global, but then use that variable outside of the scope, you can use the global keyword"
   ],
   "metadata": {
    "collapsed": false
   }
  },
  {
   "cell_type": "code",
   "execution_count": null,
   "outputs": [],
   "source": [
    "acc = 0\n",
    "def accumulator(x):\n",
    "    global acc\n",
    "    if acc == 0:\n",
    "        acc += x\n",
    "\n",
    "    accumulator(x - 1)\n",
    "accumulator(10)\n",
    "print(f'Accumulator: {acc}\\n')"
   ],
   "metadata": {
    "collapsed": false
   }
  },
  {
   "cell_type": "code",
   "execution_count": null,
   "outputs": [],
   "source": [],
   "metadata": {
    "collapsed": false
   }
  }
 ],
 "metadata": {
  "kernelspec": {
   "display_name": "Python 3",
   "language": "python",
   "name": "python3"
  },
  "language_info": {
   "codemirror_mode": {
    "name": "ipython",
    "version": 2
   },
   "file_extension": ".py",
   "mimetype": "text/x-python",
   "name": "python",
   "nbconvert_exporter": "python",
   "pygments_lexer": "ipython2",
   "version": "2.7.6"
  }
 },
 "nbformat": 4,
 "nbformat_minor": 0
}
