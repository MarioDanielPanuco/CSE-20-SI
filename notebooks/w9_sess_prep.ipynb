{
 "cells": [
  {
   "cell_type": "markdown",
   "metadata": {
    "collapsed": false
   },
   "source": [
    "# Week 9 Session Prep\n",
    "- This week we are covering recursion and maybe classes if students feel like they need more practice with classes over recursion."
   ]
  },
  {
   "cell_type": "markdown",
   "metadata": {
    "collapsed": false
   },
   "source": [
    "## Bunny ears\n",
    "There are $N$ bunnies and we want to count how many bunny ears there are in total per $N$ bunnies"
   ]
  },
  {
   "cell_type": "code",
   "execution_count": 2,
   "metadata": {
    "collapsed": true
   },
   "outputs": [
    {
     "data": {
      "text/plain": [
       "8"
      ]
     },
     "execution_count": 2,
     "metadata": {},
     "output_type": "execute_result"
    }
   ],
   "source": [
    "def bunny_ear(n):\n",
    "    if n == 0:\n",
    "        return 0\n",
    "    return bunny_ear(n - 1) + 2\n",
    "\n",
    "\n",
    "bunny_ear(4) # Output: 8"
   ]
  },
  {
   "attachments": {},
   "cell_type": "markdown",
   "metadata": {
    "collapsed": false
   },
   "source": [
    "## Additional Practice With Recursion\n",
    "<iframe width=\"800\" height=\"500\" frameborder=\"0\" src=\"https://pythontutor.com/iframe-embed.html#code=def%20binary_search%28arr,%20target%29%20-%3E%20int%3A%0A%20%20%20%20%23%20Base%20case%3A%20list%20is%20empty%0A%20%20%20%20if%20len%28arr%29%20%3D%3D%200%3A%0A%20%20%20%20%20%20%20%20return%20-1%0A%0A%20%20%20%20m%20%3D%20len%28arr%29%20//%202%0A%20%20%20%20m_val%20%3D%20arr%5Bm%5D%0A%0A%20%20%20%20%23%20Base%20case%3A%20target%20is%20found%0A%20%20%20%20if%20target%20%3D%3D%20m_val%3A%0A%20%20%20%20%20%20%20%20return%20m%0A%20%20%20%20elif%20target%20%3C%20m_val%3A%0A%20%20%20%20%20%20%20%20%23%20Recursive%20case%3A%20target%20in%20the%20left%20half%0A%20%20%20%20%20%20%20%20return%20binary_search%28arr%5B%3Am%5D,%20target%29%0A%20%20%20%20else%3A%0A%20%20%20%20%20%20%20%20%23%20Recursive%20case%3A%20target%20in%20the%20right%20half%0A%20%20%20%20%20%20%20%20return%20binary_search%28arr%5Bm%20%2B%201%3A%5D,%20target%29%0A%20%20%20%20%20%20%20%20%0Abinary_search%28%5B2,6,9,16,34,36%5D,%209%29&codeDivHeight=400&codeDivWidth=350&cumulative=false&curInstr=22&heapPrimitives=nevernest&origin=opt-frontend.js&py=3&rawInputLstJSON=%5B%5D&textReferences=false\"> </iframe>"
   ]
  },
  {
   "cell_type": "code",
   "execution_count": 1,
   "metadata": {
    "collapsed": false
   },
   "outputs": [],
   "source": [
    "def sum_list(l) -> int:\n",
    "    if len(l) == 0:\n",
    "        return 0\n",
    "    elif len(l) == 1:\n",
    "        return l[0]\n",
    "    else:\n",
    "        return l[0] + sum_list(l[1:])\n",
    "\n",
    "# Returns index target was found at\n",
    "def binary_search(arr, target) -> int:\n",
    "    # Base case: list is empty\n",
    "    if len(arr) == 0:\n",
    "        return -1\n",
    "\n",
    "    m = len(arr) // 2\n",
    "    m_val = arr[m]\n",
    "\n",
    "    # Base case: target is found\n",
    "    if target == m_val:\n",
    "        return m\n",
    "    elif target < m_val:\n",
    "        # Recursive case: target in the left half\n",
    "        return binary_search(arr[:m], target)\n",
    "    else:\n",
    "        # Recursive case: target in the right half\n",
    "        return binary_search(arr[m + 1:], target)\n"
   ]
  },
  {
   "cell_type": "markdown",
   "metadata": {
    "collapsed": false
   },
   "source": [
    "## Reflection:\n",
    "- Has the way you visualized recursion under the hood of your Python program changed after seeing the visualization tool?\n",
    "- How do your understandings of concepts such as recursion and classes compare with each other?\n",
    "- Do you think you need more practice with specific concepts or just more Python practice in general?\n"
   ]
  },
  {
   "cell_type": "markdown",
   "metadata": {
    "collapsed": false
   },
   "source": [
    "## Extra resources\n",
    "- [Python Visualizer on the Fibonacci example from class](https://pythontutor.com/visualize.html#code=def%20fib%28n%29%3A%0A%20%20%20%20if%20n%20%3D%3D%201%20or%20n%20%3D%3D%200%3A%0A%20%20%20%20%20%20%20%20return%20n%0A%20%20%20%20else%3A%0A%20%20%20%20%20%20%20%20return%20fib%28n-1%29%20%2B%20fib%28n-2%29%0A%0Afib%283%29&cumulative=false&curInstr=0&heapPrimitives=nevernest&mode=display&origin=opt-frontend.js&py=3&rawInputLstJSON=%5B%5D&textReferences=false)\n"
   ]
  }
 ],
 "metadata": {
  "kernelspec": {
   "display_name": "Python 3",
   "language": "python",
   "name": "python3"
  },
  "language_info": {
   "codemirror_mode": {
    "name": "ipython",
    "version": 2
   },
   "file_extension": ".py",
   "mimetype": "text/x-python",
   "name": "python",
   "nbconvert_exporter": "python",
   "pygments_lexer": "ipython2",
   "version": "2.7.6"
  }
 },
 "nbformat": 4,
 "nbformat_minor": 0
}
