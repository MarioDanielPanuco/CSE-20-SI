{
 "cells": [
  {
   "cell_type": "markdown",
   "source": [
    "# Lecture 4/5: Loops\n"
   ],
   "metadata": {
    "collapsed": false
   }
  },
  {
   "cell_type": "code",
   "execution_count": null,
   "outputs": [],
   "source": [
    "i = 0\n",
    "while True:\n",
    "    if i == 3:\n",
    "        pass\n",
    "    i += 1\n"
   ],
   "metadata": {
    "collapsed": false
   }
  },
  {
   "cell_type": "markdown",
   "source": [
    "You can iterate over an object, like a list, using a for loop\n"
   ],
   "metadata": {
    "collapsed": false
   }
  },
  {
   "cell_type": "code",
   "execution_count": 3,
   "outputs": [
    {
     "name": "stdout",
     "output_type": "stream",
     "text": [
      "p: 0.3\n",
      "p: 0.453\n",
      "p: 0.34236\n",
      "p: 0.765756\n"
     ]
    }
   ],
   "source": [
    "\n",
    "P = [0.3,0.453, .34236, .765756]\n",
    "for p in P:\n",
    "    print(f'p: {p}')"
   ],
   "metadata": {
    "collapsed": false
   }
  },
  {
   "cell_type": "markdown",
   "source": [],
   "metadata": {
    "collapsed": false
   }
  },
  {
   "cell_type": "markdown",
   "source": [],
   "metadata": {
    "collapsed": false
   }
  },
  {
   "cell_type": "code",
   "execution_count": 41,
   "outputs": [
    {
     "name": "stdout",
     "output_type": "stream",
     "text": [
      "fib 0: 0\n",
      "fib 1: 1\n",
      "fib 2: 1\n",
      "fib 3: 2\n",
      "fib 4: 3\n",
      "fib 5: 5\n",
      "fib 6: 8\n",
      "fib 7: 13\n",
      "fib 8: 21\n",
      "fib 9: 34\n",
      "fib 10: 55\n",
      "fib 11: 89\n",
      "fib 12: 144\n",
      "fib 13: 233\n",
      "fib 14: 377\n",
      "fib 15: 610\n",
      "fib 16: 987\n",
      "fib 17: 1597\n",
      "fib 18: 2584\n",
      "fib 19: 4181\n",
      "fib 20: 6765\n",
      "fib 21: 10946\n",
      "fib 22: 17711\n",
      "fib 23: 28657\n",
      "fib 24: 46368\n",
      "fib 25: 75025\n",
      "fib 26: 121393\n",
      "fib 27: 196418\n",
      "fib 28: 317811\n",
      "fib 29: 514229\n",
      "Duration: 0.9220000000004802\n",
      "fib 0: 0\n",
      "fib 1: 1\n",
      "fib 2: 1\n",
      "fib 3: 2\n",
      "fib 4: 3\n",
      "fib 5: 5\n",
      "fib 6: 8\n",
      "fib 7: 13\n",
      "fib 8: 21\n",
      "fib 9: 34\n",
      "fib 10: 55\n",
      "fib 11: 89\n",
      "fib 12: 144\n",
      "fib 13: 233\n",
      "fib 14: 377\n",
      "fib 15: 610\n",
      "fib 16: 987\n",
      "fib 17: 1597\n",
      "fib 18: 2584\n",
      "fib 19: 4181\n",
      "fib 20: 6765\n",
      "fib 21: 10946\n",
      "fib 22: 17711\n",
      "fib 23: 28657\n",
      "fib 24: 46368\n",
      "fib 25: 75025\n",
      "fib 26: 121393\n",
      "fib 27: 196418\n",
      "fib 28: 317811\n",
      "fib 29: 514229\n",
      "Duration: 0.4529999999995198\n"
     ]
    }
   ],
   "source": [
    " def fib(n):\n",
    "    table = [i for i in range(n + 1)]\n",
    "\n",
    "    def fib_helper(n, table):\n",
    "        if table[n - 1] :\n",
    "            table[n] = table[n - 1] + table[n - 2]\n",
    "        if n == 1:\n",
    "            table[1] = 1\n",
    "            return table[1]\n",
    "        elif n == 0:\n",
    "            table[0] = 0\n",
    "            return table[0]\n",
    "        else:\n",
    "            return fib_helper(n - 1, table) + fib_helper(n - 2, table)\n",
    "\n",
    "    return fib_helper(n, table)\n",
    "\n",
    "import time\n",
    "\n",
    "start = time.monotonic();\n",
    "for i in range(0, 30):\n",
    "    print(f'fib {i}: {fib(i)}')\n",
    "end =  time.monotonic()\n",
    "duration1 = end - start\n",
    "print(f'Duration: {duration1}')\n",
    "\n",
    "def fibe(n):\n",
    "    if n == 0:\n",
    "        return 0\n",
    "    elif n == 1:\n",
    "        return 1\n",
    "    else:\n",
    "        return fibe(n -1) + fibe(n -2)\n",
    "start = time.monotonic()\n",
    "\n",
    "for i in range(0, 30):\n",
    "    print(f'fib {i}: {fibe(i)}')\n",
    "end = time.monotonic()\n",
    "duration2 = end - start\n",
    "print(f'Duration: {duration2}')\n"
   ],
   "metadata": {
    "collapsed": false
   }
  },
  {
   "cell_type": "markdown",
   "source": [
    "Sum() returns the sum of a Python iterable. Examples of iterables are the Python List object and NumpyVector"
   ],
   "metadata": {
    "collapsed": false
   }
  },
  {
   "cell_type": "code",
   "execution_count": 51,
   "outputs": [
    {
     "name": "stdout",
     "output_type": "stream",
     "text": [
      "Sum of List: 4950\n",
      "Randomized vector: [0.02443457 0.02080501 0.17638463 0.485186  ]\n",
      "Sum of vector: 0.7068102088730228\n"
     ]
    }
   ],
   "source": [
    "# Sum of List\n",
    "print(f'Sum of List: {sum([i for i in range(5)])}')\n",
    "# Sum of Numpy Vector\n",
    "import numpy as np\n",
    "random_vector = np.random.random(4)\n",
    "print(f'Randomized vector: {random_vector}')\n",
    "print(f'Sum of vector: {sum(random_vector)}')"
   ],
   "metadata": {
    "collapsed": false
   }
  },
  {
   "cell_type": "markdown",
   "source": [
    "# QUIZ\n",
    "- For loops\n",
    "- Breaks and continues? yes\n",
    "- Nested loops\n",
    "- Accept breaks and continues\n",
    "- range() with at least 1 variable\n",
    "- Nest two for loops\n",
    "- Range as an iterable and list as an iterable"
   ],
   "metadata": {
    "collapsed": false
   }
  }
 ],
 "metadata": {
  "kernelspec": {
   "display_name": "Python 3",
   "language": "python",
   "name": "python3"
  },
  "language_info": {
   "codemirror_mode": {
    "name": "ipython",
    "version": 2
   },
   "file_extension": ".py",
   "mimetype": "text/x-python",
   "name": "python",
   "nbconvert_exporter": "python",
   "pygments_lexer": "ipython2",
   "version": "2.7.6"
  }
 },
 "nbformat": 4,
 "nbformat_minor": 0
}
