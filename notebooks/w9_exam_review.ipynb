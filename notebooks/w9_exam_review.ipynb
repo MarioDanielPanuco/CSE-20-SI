{
 "cells": [
  {
   "cell_type": "markdown",
   "metadata": {
    "collapsed": false
   },
   "source": [
    "# Week 9 Quiz Review\n",
    "\n",
    "## Topics:\n",
    "1. Recursion\n",
    "2. Classes\n",
    "3. Inheritance"
   ]
  },
  {
   "attachments": {},
   "cell_type": "markdown",
   "metadata": {
    "collapsed": false
   },
   "source": [
    "## Recursion\n",
    "- We'll start with a visualization of recursion with binary search and the 3 different traversals for a Binary Search Tree\n",
    "<iframe width=\"800\" height=\"500\" frameborder=\"0\" src=\"https://pythontutor.com/iframe-embed.html#code=def%20binary_search%28arr,%20target%29%20-%3E%20int%3A%0A%20%20%20%20%23%20Base%20case%3A%20list%20is%20empty%0A%20%20%20%20if%20len%28arr%29%20%3D%3D%200%3A%0A%20%20%20%20%20%20%20%20return%20-1%0A%0A%20%20%20%20m%20%3D%20len%28arr%29%20//%202%0A%20%20%20%20m_val%20%3D%20arr%5Bm%5D%0A%0A%20%20%20%20%23%20Base%20case%3A%20target%20is%20found%0A%20%20%20%20if%20target%20%3D%3D%20m_val%3A%0A%20%20%20%20%20%20%20%20return%20m%0A%20%20%20%20elif%20target%20%3C%20m_val%3A%0A%20%20%20%20%20%20%20%20%23%20Recursive%20case%3A%20target%20in%20the%20left%20half%0A%20%20%20%20%20%20%20%20return%20binary_search%28arr%5B%3Am%5D,%20target%29%0A%20%20%20%20else%3A%0A%20%20%20%20%20%20%20%20%23%20Recursive%20case%3A%20target%20in%20the%20right%20half%0A%20%20%20%20%20%20%20%20return%20binary_search%28arr%5Bm%20%2B%201%3A%5D,%20target%29%0A%20%20%20%20%20%20%20%20%0Abinary_search%28%5B2,6,9,16,34,36%5D,%209%29&codeDivHeight=400&codeDivWidth=350&cumulative=false&curInstr=22&heapPrimitives=nevernest&origin=opt-frontend.js&py=3&rawInputLstJSON=%5B%5D&textReferences=false\"> </iframe>\n",
    "\n",
    "<iframe width=\"800\" height=\"500\" frameborder=\"0\" src=\"https://pythontutor.com/iframe-embed.html#code=class%20Node%3A%0A%20%20%20%20def%20__init__%28self,%20data%29%3A%0A%20%20%20%20%20%20%20%20self.left%20%3D%20None%0A%20%20%20%20%20%20%20%20self.right%20%3D%20None%0A%20%20%20%20%20%20%20%20self.data%20%3D%20data%0A%0Adef%20in_order_traversal%28node%29%3A%0A%20%20%20%20if%20node%3A%0A%20%20%20%20%20%20%20%20in_order_traversal%28node.left%29%0A%20%20%20%20%20%20%20%20print%28node.data%29%0A%20%20%20%20%20%20%20%20in_order_traversal%28node.right%29%0A%0Adef%20pre_order_traversal%28node%29%3A%0A%20%20%20%20if%20node%3A%0A%20%20%20%20%20%20%20%20print%28node.data%29%0A%20%20%20%20%20%20%20%20pre_order_traversal%28node.left%29%0A%20%20%20%20%20%20%20%20pre_order_traversal%28node.right%29%0A%0Adef%20post_order_traversal%28node%29%3A%0A%20%20%20%20if%20node%3A%0A%20%20%20%20%20%20%20%20post_order_traversal%28node.left%29%0A%20%20%20%20%20%20%20%20post_order_traversal%28node.right%29%0A%20%20%20%20%20%20%20%20print%28node.data%29%0A%0Aroot%20%3D%20Node%2810%29%0Aroot.left%20%3D%20Node%285%29%0Aroot.left.right%20%3D%20Node%287%29%0Aroot.right%20%3D%20Node%2815%29%0Aroot.right.left%20%3D%20Node%2810%29%0Aroot.right.right%20%3D%20Node%2820%29%0Ain_order_traversal%28root%29&codeDivHeight=400&codeDivWidth=350&cumulative=false&curInstr=0&heapPrimitives=nevernest&origin=opt-frontend.js&py=3&rawInputLstJSON=%5B%5D&textReferences=false\"> </iframe>"
   ]
  },
  {
   "attachments": {},
   "cell_type": "markdown",
   "metadata": {},
   "source": [
    "## Recursion Challenges\n",
    "### Easy\n",
    "- Recursively sum a list\n",
    "- Check if a string is a palindrome. Ex: \"bob\" -> True, \"Water\" -> False\n",
    "### Medium\n",
    "- Reverse a list of integers\n",
    "- Write a recursive function to check if a string is a palindrome.\n",
    "### Medium-Hard\n",
    "- Binary sort (with start code)\n"
   ]
  },
  {
   "cell_type": "code",
   "execution_count": 7,
   "metadata": {
    "collapsed": false
   },
   "outputs": [],
   "source": [
    "def reverse_list(l) -> list:\n",
    "    if len(l) == 0 or len(l) == 1:\n",
    "        return l\n",
    "    else:\n",
    "        return reverse_list(l[1:]) + [l[0]]\n",
    "\n",
    "def is_palindrome(string) -> bool:\n",
    "    if len(string) <= 1:\n",
    "        return True\n",
    "    elif string[0] != string[-1]:\n",
    "        return False\n",
    "    else:\n",
    "        return is_palindrome(string[1:-1])\n",
    "\n",
    "def sum_list(l) -> int:\n",
    "    if len(l) == 0:\n",
    "        return 0\n",
    "    elif len(l) == 1:\n",
    "        return l[0]\n",
    "    else:\n",
    "        pass\n",
    "\n",
    "\n",
    "# Returns index target was found at\n",
    "def binary_search(arr, target) -> int:\n",
    "    # Base case: list is empty\n",
    "    if len(arr) == 0:\n",
    "        return -1\n",
    "\n",
    "    m = len(arr) // 2\n",
    "    m_val = arr[m]\n",
    "    # Base case: target is found\n",
    "    if target == m_val:\n",
    "        pass\n",
    "    elif target < m_val:\n",
    "        # Recursive case: target in the left half\n",
    "        pass\n",
    "    else:\n",
    "        # Recursive case: target in the right half\n",
    "        return binary_search(arr[m + 1:], target)\n"
   ]
  },
  {
   "attachments": {},
   "cell_type": "markdown",
   "metadata": {},
   "source": [
    "## Extra Recursion!! 🎉\n",
    "Towers of Hanoi: The Towers of Hanoi is a classic puzzle game that can be solved using recursion. The game consists of three rods and a number of disks of different sizes, which can slide onto any rod. The puzzle starts with the disks in a neat stack in ascending order of size on one rod, the smallest at the top, thus making a conical shape. The objective of the puzzle is to move the entire stack to another rod, obeying the following simple rules:\n",
    "\n",
    "a. Only one disk can be moved at a time.\n",
    "\n",
    "b. Each move consists of taking the upper disk from one of the stacks and placing it on top of another stack or on an empty rod.\n",
    "\n",
    "c. No disk may be placed on top of a smaller disk.\n",
    "<iframe width=\"800\" height=\"500\" frameborder=\"0\" src=\"https://pythontutor.com/iframe-embed.html#code=def%20hanoi%28n,%20source,%20aux,%20target%29%3A%0A%20%20%20%20if%20n%20%3D%3D%201%3A%0A%20%20%20%20%20%20%20%20print%28%22Move%20disk%201%20from%20rod%22,%20source,%20%22to%20rod%22,%20target%29%0A%20%20%20%20%20%20%20%20return%0A%20%20%20%20hanoi%28n-1,%20source,%20target,%20aux%29%0A%20%20%20%20print%28%22Move%20disk%22,%20n,%20%22from%20rod%22,%20source,%20%22to%20rod%22,%20target%29%0A%20%20%20%20hanoi%28n-1,%20aux,%20source,%20target%29%0A%20%20%20%20%0Ahanoi%283,%201,%202,%203%29%0A&codeDivHeight=400&codeDivWidth=350&cumulative=false&curInstr=0&heapPrimitives=nevernest&origin=opt-frontend.js&py=3&rawInputLstJSON=%5B%5D&textReferences=false\"> </iframe>\n"
   ]
  },
  {
   "cell_type": "code",
   "execution_count": null,
   "metadata": {},
   "outputs": [],
   "source": []
  },
  {
   "attachments": {},
   "cell_type": "markdown",
   "metadata": {
    "collapsed": false
   },
   "source": [
    "## Classes\n",
    "- Operator Overloading\n",
    "- For information about copying/deep copies see class lecture notes \\#13\n",
    "    - [Lecture notes 13](https://github.com/benedictpaten/intro_python/blob/main/lecture_notebooks/L13%20Classes%20and%20Polymorphism.ipynb)\n",
    "- is a vs has a\n",
    "- See notesbooks/w8_sess_prep.ipynb"
   ]
  },
  {
   "cell_type": "code",
   "execution_count": 8,
   "metadata": {
    "collapsed": false
   },
   "outputs": [
    {
     "name": "stdout",
     "output_type": "stream",
     "text": [
      "ob1 is of type Object: True\n",
      "hold1 is of type Holder: True\n"
     ]
    }
   ],
   "source": [
    "class Holder: \n",
    "    def __init__(self, obj) -> None:\n",
    "        self.obj = obj \n",
    "\n",
    "\n",
    "class Object: \n",
    "    def __init__ (self, arr) -> None:\n",
    "        self.arr = arr\n",
    "\n",
    "ob1 = Object([2,3,5,3])\n",
    "hold1 = Holder(ob1)\n",
    "print(f\"ob1 is of type Object: {type(ob1) is Object}\")\n",
    "\n",
    "print(f\"hold1 is of type Holder: {type(hold1) is Holder}\")\n",
    "# Note: Holder has an Object, but is not an Object\n",
    "# Holder simply has a class field that is an Object"
   ]
  },
  {
   "cell_type": "markdown",
   "metadata": {
    "collapsed": false
   },
   "source": [
    "## Inheritance and Polymorphism"
   ]
  },
  {
   "cell_type": "code",
   "execution_count": 9,
   "metadata": {
    "collapsed": false
   },
   "outputs": [
    {
     "name": "stdout",
     "output_type": "stream",
     "text": [
      "Woof\n",
      "Meow\n"
     ]
    }
   ],
   "source": [
    "# Define the parent class\n",
    "class Animal:\n",
    "    def __init__(self, name):\n",
    "        self.name = name\n",
    "\n",
    "    def speak(self):\n",
    "        raise NotImplementedError(\"Subclass must implement abstract method\")\n",
    "\n",
    "# Define a child class that inherits from Animal\n",
    "class Dog(Animal):\n",
    "    def speak(self):\n",
    "        return \"Woof\"\n",
    "\n",
    "# Define another child class that inherits from Animal\n",
    "class Cat(Animal):\n",
    "    def speak(self):\n",
    "        return \"Meow\"\n",
    "\n",
    "# Define a function that takes an animal object and makes it speak\n",
    "# This is an example of polymorphism. We can use the this function on any class\n",
    "# that inherits from Animal.\n",
    "def make_animal_speak(animal):\n",
    "    return animal.speak()\n",
    "\n",
    "# Create instances of the Dog and Cat classes\n",
    "dog = Dog(\"Rufus\")\n",
    "cat = Cat(\"Whiskers\")\n",
    "\n",
    "# Call the make_animal_speak function on the Dog and Cat instances\n",
    "print(make_animal_speak(dog))  # Output: Woof\n",
    "print(make_animal_speak(cat))  # Output: Meow\n"
   ]
  },
  {
   "attachments": {},
   "cell_type": "markdown",
   "metadata": {
    "collapsed": false
   },
   "source": [
    "## Extended Classes\n",
    "- We'll be building off of some of the Python classes we created in week 8 session prep.\n",
    "- We are going to be creating a parent class \"Vehicle\" from which we will be inheriting other \n",
    "classes we define like cars, boats, and planes.\n",
    "- Then we will create an Aiport class that we'll use to track planes.\n"
   ]
  },
  {
   "cell_type": "code",
   "execution_count": 26,
   "metadata": {},
   "outputs": [
    {
     "name": "stdout",
     "output_type": "stream",
     "text": [
      "Boarding up to 400 passengers...\n",
      "Boeing 747: flying 6000 miles...\n",
      "Boeing 747: starting...\n",
      "['Boeing  747']\n",
      "[]\n"
     ]
    }
   ],
   "source": [
    "class Vehicle:\n",
    "    def __init__(self, make, model, year, weight):\n",
    "        self.make = make\n",
    "        self.model = model\n",
    "        self.year = year\n",
    "        self.weight = weight\n",
    "\n",
    "    def start(self):\n",
    "        print(f\"{self.make} {self.model}: starting...\")\n",
    "\n",
    "    def stop(self):\n",
    "        print(f\"{self.make} {self.model}: stopping...\")\n",
    "\n",
    "    def accel(self):\n",
    "        print(f\"{self.make} {self.model}: accellerating...\")\n",
    "\n",
    "class Car(Vehicle):\n",
    "    def __init__(self, make, model, year, weight, num_doors):\n",
    "        super().__init__(make, model, year, weight)\n",
    "        self.num_doors = num_doors\n",
    "\n",
    "    @staticmethod # this is a static method because we don't access/modify any of the object's fields\n",
    "    def honk():\n",
    "        print(\"Beep beep!\")\n",
    "\n",
    "class Boat(Vehicle):\n",
    "    def __init__(self, make, model, year, weight, payload_capacity):\n",
    "        super().__init__(make, model, year, weight)\n",
    "        self.payload_capacity = payload_capacity\n",
    "\n",
    "    def ship(self):\n",
    "        print(f\"Shipping up to {self.payload_capacity} pounds...\")\n",
    "\n",
    "class Plane(Vehicle):\n",
    "    def __init__(self, make, model, year, weight, fuel_capacity, range):\n",
    "        super().__init__(make, model, year, weight)\n",
    "        self.fuel_capacity = fuel_capacity\n",
    "        self.range = range\n",
    "\n",
    "    def fly(self, distance):\n",
    "        max_distance = self.fuel_capacity * 0.8\n",
    "        if distance > max_distance:\n",
    "            print(f\"{self.make} {self.model} cannot fly {distance} miles; maximum range is {max_distance} miles.\")\n",
    "        else:\n",
    "            print(f\"{self.make} {self.model}: flying {distance} miles...\")\n",
    "\n",
    "class CommercialPlane(Plane):\n",
    "    def __init__(self, make, model, year, weight, fuel_capacity, range, passenger_capacity):\n",
    "        super().__init__(make, model, year, weight, fuel_capacity, range)\n",
    "        self.passenger_capacity = passenger_capacity\n",
    "\n",
    "    def board_passengers(self):\n",
    "        print(f\"Boarding up to {self.passenger_capacity} passengers...\")\n",
    "\n",
    "my_plane = CommercialPlane(make=\"Boeing\", model=\"747\", year=2022, weight=50000, fuel_capacity=10000, range=5000, passenger_capacity=400)\n",
    "my_plane.board_passengers()\n",
    "my_plane.fly(6000)\n",
    "my_plane.start()\n",
    "\n",
    "class Airport:\n",
    "    def __init__(self, capacity):\n",
    "        self.capacity = capacity\n",
    "        self.vehicles = {}\n",
    "\n",
    "    def add_vehicle(self, vehicle):\n",
    "        self.vehicles[f\"{vehicle.make}  {vehicle.model}\"] = vehicle\n",
    "\n",
    "    def remove_vehicle(self, vehicle):\n",
    "        del self.vehicles[f\"{vehicle.make}  {vehicle.model}\"] \n",
    "\n",
    "    def start_all_vehicles(self):\n",
    "        print(\"Starting all vehicles:\")\n",
    "        for vehicle in self.vehicles:\n",
    "            vehicle.start()\n",
    "\n",
    "    def stop_all_vehicles(self):\n",
    "        print(\"Stopping all vehicles:\")\n",
    "        for vehicle in self.vehicles:\n",
    "            vehicle.stop()\n",
    "\n",
    "    def move_all_vehicles(self):\n",
    "        print(\"Moving all vehicles:\")\n",
    "        for vehicle in self.vehicles:\n",
    "            vehicle.move()\n",
    "\n",
    "    def __str__(self):\n",
    "        return str(list(self.vehicles.keys()))\n",
    "\n",
    "    def __add__(self, other):\n",
    "        self.add_vehicle(other)\n",
    "        return self\n",
    "\n",
    "    def __sub__(self, other):\n",
    "        self.remove_vehicle(other)\n",
    "        return self\n",
    "\n",
    "SFO = Airport(20)\n",
    "SFO += my_plane\n",
    "print(SFO)\n",
    "SFO -= my_plane\n",
    "print(SFO)"
   ]
  },
  {
   "cell_type": "code",
   "execution_count": null,
   "metadata": {},
   "outputs": [],
   "source": []
  }
 ],
 "metadata": {
  "kernelspec": {
   "display_name": "Python 3",
   "language": "python",
   "name": "python3"
  },
  "language_info": {
   "codemirror_mode": {
    "name": "ipython",
    "version": 3
   },
   "file_extension": ".py",
   "mimetype": "text/x-python",
   "name": "python",
   "nbconvert_exporter": "python",
   "pygments_lexer": "ipython3",
   "version": "3.10.4"
  }
 },
 "nbformat": 4,
 "nbformat_minor": 0
}
