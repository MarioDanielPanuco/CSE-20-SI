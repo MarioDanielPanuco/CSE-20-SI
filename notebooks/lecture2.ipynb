{
 "cells": [
  {
   "cell_type": "markdown",
   "source": [
    "# Lecture 2\n",
    "## Administrata\n",
    "- Get the help you need EARLY, it will save you time and save the course staff time from needing to catch up on helping you later in the quarter.\n",
    "- Larrabee goes to sleep at 8PM 😴\n"
   ],
   "metadata": {
    "collapsed": false
   }
  },
  {
   "cell_type": "markdown",
   "source": [
    "## Variables\n",
    "- Integers are non-float numbers, in other programming languages we have to specify the amount of memory we are allocating for the integer variable, which affects the range the integer can hold.\n",
    "- Primitives in Rust (can help under50stand some of what's happening under the hood of a high-level language like Python https://doc.rust-lang.org/rust-by-example/primitives.html\n",
    "- [How integers are stored](https://youtu.be/zxb8DvLUqcM)\n",
    "- [Ranges for integer primitives](https://en.wikipedia.org/wiki/Primitive_data_type#Integer_numbers)\n"
   ],
   "metadata": {
    "collapsed": false
   }
  },
  {
   "cell_type": "markdown",
   "source": [
    "## Copying References"
   ],
   "metadata": {
    "collapsed": false
   }
  },
  {
   "cell_type": "markdown",
   "source": [
    "## Expressions\n",
    "- Don't have to put expressions into variables; Python is interpretive, so it will just output the result of the expression"
   ],
   "metadata": {
    "collapsed": false
   }
  },
  {
   "cell_type": "markdown",
   "source": [
    "## References\n",
    "- = operator sets left-hand variable to right-hand variable\n",
    "    - Note: this is different from making a variable a reference of some other variable, which means changing the original content changes the references"
   ],
   "metadata": {
    "collapsed": false
   }
  },
  {
   "cell_type": "markdown",
   "source": [],
   "metadata": {
    "collapsed": false
   }
  },
  {
   "cell_type": "code",
   "execution_count": 15,
   "outputs": [
    {
     "name": "stdout",
     "output_type": "stream",
     "text": [
      "x: 5, y: 6\n",
      "INST: Y=x\n",
      "x: 5, y: 5\n",
      "INST: x=2\n",
      "x: 2, y: 5\n"
     ]
    }
   ],
   "source": [
    "x = 5\n",
    "y = 6\n",
    "print(f'x: {x}, y: {y}')\n",
    "print(f\"INST: Y=x\")\n",
    "y = x\n",
    "# y is now 5\n",
    "print(f'x: {x}, y: {y}')\n",
    "print(f\"INST: x=2\")\n",
    "x = 2\n",
    "# x is now 2, y is still 5\n",
    "print(f'x: {x}, y: {y}')"
   ],
   "metadata": {
    "collapsed": false
   }
  },
  {
   "cell_type": "markdown",
   "source": [
    "## Statements\n",
    "Instructions to the interpreter\n",
    "\n",
    "- Not all statements are expressions, but an expression is a statement\n",
    "## Operators\n",
    "```\n",
    "\n",
    "Operator\tName\t    Example\n",
    "+\tAddition\t        x + y\n",
    "-\tSubtraction\t        x - y\n",
    "*\tMultiplication\t    x * y\n",
    "/\tDivision\t        x / y\n",
    "%\tModulus\t            x % y\n",
    "**\tExponentiation\t    x ** y\n",
    "//\tFloor division\t    x // y\n",
    "\n"
   ],
   "metadata": {
    "collapsed": false
   }
  },
  {
   "cell_type": "markdown",
   "source": [],
   "metadata": {
    "collapsed": false
   }
  },
  {
   "cell_type": "code",
   "execution_count": 11,
   "outputs": [
    {
     "data": {
      "text/plain": "shape: (7, 3)\n┌──────┬────────────────┬──────────┐\n│ Name ┆  Operator      ┆  Example │\n│ ---  ┆ ---            ┆ ---      │\n│ str  ┆ str            ┆ str      │\n╞══════╪════════════════╪══════════╡\n│ +    ┆ Addition       ┆  x + y   │\n│ -\t    ┆ Subtraction    ┆  x - y   │\n│ *\t    ┆ Multiplication ┆  x * y   │\n│ /\t    ┆ Division       ┆  x / y   │\n│ %\t    ┆ Modulus        ┆  x % y   │\n│ **\t   ┆ Exponentiation ┆  x ** y  │\n│ //\t   ┆ Floor division ┆  x // y  │\n└──────┴────────────────┴──────────┘",
      "text/html": "<div>\n<style scoped>\n    .dataframe tbody tr th:only-of-type {\n        vertical-align: middle;\n    }\n\n    .dataframe tbody tr th {\n        vertical-align: top;\n    }\n\n    .dataframe thead th {\n        text-align: right;\n    }\n\n    .dataframe td {\n        white-space: pre;\n    }\n\n    .dataframe td {\n        padding-top: 0;\n    }\n\n    .dataframe td {\n        padding-bottom: 0;\n    }\n\n    .dataframe td {\n        line-height: 95%;\n    }\n</style>\n<table border=\"1\" class=\"dataframe\">\n<small>shape: (7, 3)</small>\n<thead>\n<tr>\n<th>\nName\n</th>\n<th>\n Operator\n</th>\n<th>\n Example\n</th>\n</tr>\n<tr>\n<td>\nstr\n</td>\n<td>\nstr\n</td>\n<td>\nstr\n</td>\n</tr>\n</thead>\n<tbody>\n<tr>\n<td>\n&quot;+&quot;\n</td>\n<td>\n&quot;Addition&quot;\n</td>\n<td>\n&quot; x + y&quot;\n</td>\n</tr>\n<tr>\n<td>\n&quot;-\t&quot;\n</td>\n<td>\n&quot;Subtraction&quot;\n</td>\n<td>\n&quot; x - y&quot;\n</td>\n</tr>\n<tr>\n<td>\n&quot;*\t&quot;\n</td>\n<td>\n&quot;Multiplication...\n</td>\n<td>\n&quot; x * y&quot;\n</td>\n</tr>\n<tr>\n<td>\n&quot;/\t&quot;\n</td>\n<td>\n&quot;Division&quot;\n</td>\n<td>\n&quot; x / y&quot;\n</td>\n</tr>\n<tr>\n<td>\n&quot;%\t&quot;\n</td>\n<td>\n&quot;Modulus&quot;\n</td>\n<td>\n&quot; x % y&quot;\n</td>\n</tr>\n<tr>\n<td>\n&quot;**\t&quot;\n</td>\n<td>\n&quot;Exponentiation...\n</td>\n<td>\n&quot; x ** y&quot;\n</td>\n</tr>\n<tr>\n<td>\n&quot;//\t&quot;\n</td>\n<td>\n&quot;Floor division...\n</td>\n<td>\n&quot; x // y&quot;\n</td>\n</tr>\n</tbody>\n</table>\n</div>"
     },
     "execution_count": 11,
     "metadata": {},
     "output_type": "execute_result"
    }
   ],
   "source": [
    "import polars as pl\n",
    "pl.read_csv(\"../data/csv/operators.csv\")"
   ],
   "metadata": {
    "collapsed": false
   }
  },
  {
   "cell_type": "markdown",
   "source": [],
   "metadata": {
    "collapsed": false
   }
  }
 ],
 "metadata": {
  "kernelspec": {
   "display_name": "Python 3",
   "language": "python",
   "name": "python3"
  },
  "language_info": {
   "codemirror_mode": {
    "name": "ipython",
    "version": 2
   },
   "file_extension": ".py",
   "mimetype": "text/x-python",
   "name": "python",
   "nbconvert_exporter": "python",
   "pygments_lexer": "ipython2",
   "version": "2.7.6"
  }
 },
 "nbformat": 4,
 "nbformat_minor": 0
}
