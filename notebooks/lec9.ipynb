{
 "cells": [
  {
   "cell_type": "markdown",
   "source": [
    "# Lecture 9 - Tuples\n",
    "- Tuples are immutable, they can't be edited\n",
    "- Tuples don't have dynamic memory allocation like lists or dictionaries"
   ],
   "metadata": {
    "collapsed": false
   }
  },
  {
   "cell_type": "code",
   "execution_count": 25,
   "outputs": [
    {
     "name": "stdout",
     "output_type": "stream",
     "text": [
      "Length of tup: 3\n",
      "Item #1: James\n",
      "Item #2: Cameron\n",
      "Item #3: 68\n"
     ]
    }
   ],
   "source": [
    "# Like other Python objects, tuples implement the len function to\n",
    "\n",
    "tup = (\"James\", \"Cameron\", 68)\n",
    "counter = 0\n",
    "print(f\"Length of tup: {len(tup)}\")\n",
    "# Now lets verify\n",
    "for i in tup:\n",
    "    counter += 1\n",
    "    print(f'Item #{counter}: ', end='')\n",
    "    print(i, end='\\n')\n"
   ],
   "metadata": {
    "collapsed": false
   }
  },
  {
   "cell_type": "markdown",
   "source": [
    "### More lists"
   ],
   "metadata": {
    "collapsed": false
   }
  },
  {
   "cell_type": "code",
   "execution_count": 26,
   "outputs": [
    {
     "name": "stdout",
     "output_type": "stream",
     "text": [
      "Original x: [1, 2, 3, 4, 5, 6, 7]\n",
      "x after appending the slice at index 4-5: [1, 2, 3, 4, 6, 5, 6, 7]\n",
      "x after extending: [1, 2, 3, 4, 6, 5, 6, 7, 100, 101, 102]\n"
     ]
    }
   ],
   "source": [
    "x = [1, 2, 3, 4, 5, 6, 7]\n",
    "print(f\"Original x: {x}\")\n",
    "# Slices to replace lists\n",
    "x[4:5] = [6,5]\n",
    "print(f'x after appending the slice at index 4-5: {x}')\n",
    "# we can use the extend method to add a list to the end of a list\n",
    "x.extend([100,101,102])\n",
    "print(f'x after extending: {x}')"
   ],
   "metadata": {
    "collapsed": false
   }
  },
  {
   "cell_type": "markdown",
   "source": [
    "## List Comprehensions\n",
    "- A Python way of quickly building a list of another iterable\n",
    "- Recommend looking through and modifying code on course jupyter notebook\n"
   ],
   "metadata": {
    "collapsed": false
   }
  },
  {
   "cell_type": "code",
   "execution_count": 27,
   "outputs": [
    {
     "name": "stdout",
     "output_type": "stream",
     "text": [
      "[0.08414709848078965, 0.09092974268256818, 0.014112000805986721, -0.07568024953079282, -0.09589242746631385, -0.027941549819892587]\n"
     ]
    }
   ],
   "source": [
    "import math as m\n",
    "def expression(elem):\n",
    "    return m.sin(elem) / 10\n",
    "x = [1,2,3,4,5,6]\n",
    "y = [expression(elem) for elem in x]\n",
    "print(y)"
   ],
   "metadata": {
    "collapsed": false
   }
  },
  {
   "cell_type": "markdown",
   "source": [
    "## Dictionary Comprehensions\n",
    "- Our keys have to be immutable like Strings, we can use these keys to link with values which can be mutable\n",
    "- For more on Dictionary's hashing function [Stanford CS161 Lecture Notes](https://web.stanford.edu/class/archive/cs/cs161/cs161.1182/Lectures/Lecture8/CS161Lecture08.pdf)"
   ],
   "metadata": {
    "collapsed": false
   }
  },
  {
   "cell_type": "code",
   "execution_count": 28,
   "outputs": [
    {
     "name": "stdout",
     "output_type": "stream",
     "text": [
      "Iterable we are using to build our Dictionary: [1, 2, 3, 4, 5, 6]\n",
      "Dictionary: \n",
      " {1: 2, 2: 4, 3: 6, 4: 8, 5: 10, 6: 12}\n"
     ]
    }
   ],
   "source": [
    "# Structure of a Dictionary comprehension\n",
    "# { KEY:VALUE for x in ITERABLE (optionally) if EXPRESSION2 }\n",
    "def process(i):\n",
    "    return i*2\n",
    "print(f\"Iterable we are using to build our Dictionary: {x}\")\n",
    "d = {i: process(i) for i in x}\n",
    "print(f'Dictionary: \\n {d}')"
   ],
   "metadata": {
    "collapsed": false
   }
  },
  {
   "cell_type": "markdown",
   "source": [
    "## Swapping tuples\n",
    "- tuples allow a nice Pythonic interface for swapping values, so they reference different names. aka swapping variables"
   ],
   "metadata": {
    "collapsed": false
   }
  },
  {
   "cell_type": "code",
   "execution_count": 29,
   "outputs": [
    {
     "name": "stdout",
     "output_type": "stream",
     "text": [
      "x: 10, y: 5\n"
     ]
    }
   ],
   "source": [
    "# swapping variables\n",
    "# Name = x, value = 5\n",
    "\n",
    "x = 5\n",
    "# Name = y, value = 10\n",
    "y = 10\n",
    "(x,y) = (y, x)\n",
    "print(f\"x: {x}, y: {y}\")"
   ],
   "metadata": {
    "collapsed": false
   }
  }
 ],
 "metadata": {
  "kernelspec": {
   "display_name": "Python 3",
   "language": "python",
   "name": "python3"
  },
  "language_info": {
   "codemirror_mode": {
    "name": "ipython",
    "version": 2
   },
   "file_extension": ".py",
   "mimetype": "text/x-python",
   "name": "python",
   "nbconvert_exporter": "python",
   "pygments_lexer": "ipython2",
   "version": "2.7.6"
  }
 },
 "nbformat": 4,
 "nbformat_minor": 0
}
