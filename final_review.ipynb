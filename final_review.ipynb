{
 "cells": [
  {
   "cell_type": "markdown",
   "source": [
    "# Final Review\n",
    "- Reintroduction to Python as a language\n",
    "- Review of Classes, Recursion\n",
    "- Open Discussion"
   ],
   "metadata": {
    "collapsed": false
   }
  },
  {
   "cell_type": "markdown",
   "source": [
    "1. Introduction to Recursion\n",
    "\n",
    "2. Base Case and Recursive Case\n",
    "\n",
    "3. Common Recursive Patterns\n",
    "\n",
    "4. Tips for Solving Recursive Problems\n",
    "\n",
    "5. Practice Problems\n",
    "\n",
    "Introduction to Recursion:\n",
    "\n",
    "\n",
    "Define recursion as a function calling itself\n",
    "Emphasize the importance of breaking down a problem into smaller, simpler subproblems\n",
    "Mention the relationship between recursion and iteration (loops)\n",
    "Base Case and Recursive Case:\n",
    "\n",
    "\n",
    "- Importance of a base case (the stopping condition for recursion)\n",
    "- recursive case (how the problem is divided into smaller subproblems)\n",
    "\n",
    "\n",
    "Common Recursive Patterns:\n",
    "- Linear Recursion (e.g., summation of a list)\n",
    "- Binary Recursion (e.g., Fibonacci sequence)\n",
    "- Multiple Recursion (e.g., Tower of Hanoi)\n",
    "- Tail Recursion (when the recursive call is the last operation in the function)\n",
    "- Divide and Conquer (e.g., Merge Sort)\n",
    "\n",
    "\n",
    "Tips for Solving Recursive Problems:\n",
    "- Understand the problem and identify the base case(s)\n",
    "- Break the problem down into smaller subproblems\n",
    "- Think of the function signature (input and output)\n",
    "- Consider the time and space complexity\n",
    "- Write and test the function incrementally"
   ],
   "metadata": {
    "collapsed": false
   }
  },
  {
   "cell_type": "code",
   "execution_count": null,
   "outputs": [],
   "source": [
    "# Linear Recursion\n",
    "def sum_list(lst):\n",
    "    if len(lst) == 0:\n",
    "        return 0\n",
    "    else:\n",
    "        return lst[0] + sum_list(lst[1:])\n",
    "\n",
    "print(sum_list([1, 2, 3, 4]))  # Output: 10\n",
    "\n",
    "# Binary Recursion\n",
    "def fibonacci(n):\n",
    "    if n == 0 or n == 1:\n",
    "        return n\n",
    "    else:\n",
    "        return fibonacci(n - 1) + fibonacci(n - 2)\n",
    "\n",
    "print(fibonacci(5))  # Output: 5"
   ],
   "metadata": {
    "collapsed": false
   }
  },
  {
   "cell_type": "code",
   "execution_count": null,
   "outputs": [],
   "source": [
    "class Node:\n",
    "    def __init__(self, data):\n",
    "        self.data = data\n",
    "        self.next = None\n",
    "\n",
    "# Linear\n",
    "def list_length(node):\n",
    "    if node is None:\n",
    "        return 0\n",
    "    else:\n",
    "        return 1 + list_length(node.next)\n",
    "\n",
    "# Perform a binary search on a sorted list using recursion\n",
    "def binary_search(lst, target, low, high):\n",
    "    if low > high:\n",
    "        return -1\n",
    "    mid = (low + high) // 2\n",
    "    if lst[mid] == target:\n",
    "        return mid\n",
    "    elif lst[mid] < target:\n",
    "        return binary_search(lst, target, mid + 1, high)\n",
    "    else:\n",
    "        return binary_search(lst, target, low, mid - 1)\n",
    "\n",
    "\n",
    "sorted_list = [1, 2, 3, 4, 5, 6, 7, 8, 9]\n",
    "print(binary_search(sorted_list, 7, 0, len(sorted_list) - 1))  # Output: 6\n",
    "\n"
   ],
   "metadata": {
    "collapsed": false
   }
  },
  {
   "cell_type": "markdown",
   "source": [
    "Binary Search Trees:\n",
    "A binary search tree is a binary tree data structure with the following properties:\n",
    "- Each node has at most two child nodes (left and right)\n",
    "- The left subtree of a node contains only nodes with keys less than the node's key\n",
    "- The right subtree of a node contains only nodes with keys greater than the node's key\n",
    "Implement a recursive search function in a binary search tree"
   ],
   "metadata": {
    "collapsed": false
   }
  },
  {
   "cell_type": "code",
   "execution_count": null,
   "outputs": [],
   "source": [
    "class Node:\n",
    "    def __init__(self, key):\n",
    "        self.left = None\n",
    "        self.right = None\n",
    "        self.key = key\n",
    "\n",
    "def search_bst(node, target):\n",
    "    if node is None or node.key == target:\n",
    "        return node\n",
    "    elif target < node.key:\n",
    "        return search_bst(node.left, target)\n",
    "    else:\n",
    "        return search_bst(node.right, target)\n",
    "\n",
    "# Example tree\n",
    "root = Node(4)\n",
    "root.left = Node(2)\n",
    "root.right = Node(6)\n",
    "root.left.left = Node(1)\n",
    "root.left.right = Node(3)\n",
    "root.right.left = Node(5)\n",
    "root.right.right = Node(7)\n",
    "\n",
    "result = search_bst(root, 5)\n",
    "if result:\n",
    "    print(\"Found:\", result.key)\n",
    "else:\n",
    "    print(\"Not found\")"
   ],
   "metadata": {
    "collapsed": false
   }
  }
 ],
 "metadata": {
  "kernelspec": {
   "display_name": "Python 3",
   "language": "python",
   "name": "python3"
  },
  "language_info": {
   "codemirror_mode": {
    "name": "ipython",
    "version": 2
   },
   "file_extension": ".py",
   "mimetype": "text/x-python",
   "name": "python",
   "nbconvert_exporter": "python",
   "pygments_lexer": "ipython2",
   "version": "2.7.6"
  }
 },
 "nbformat": 4,
 "nbformat_minor": 0
}
