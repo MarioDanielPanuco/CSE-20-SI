{
 "cells": [
  {
   "cell_type": "markdown",
   "source": [
    "# Strings\n"
   ],
   "metadata": {
    "collapsed": false
   }
  },
  {
   "cell_type": "markdown",
   "source": [
    "# Concatenating strings\n",
    "- you can use the + and * operators to manipulate strings\n",
    "- You can't use the - operator to manipulate strings because the interpreter doesn't know what to remove from the string"
   ],
   "metadata": {
    "collapsed": false
   }
  },
  {
   "cell_type": "code",
   "execution_count": 21,
   "outputs": [
    {
     "name": "stdout",
     "output_type": "stream",
     "text": [
      "First part of string\n",
      "second part of string\n",
      "\n",
      "First part of string\n",
      "second part of string\n",
      "second part of string\n",
      "second part of string\n",
      "second part of string\n",
      "second part of string\n",
      "\n"
     ]
    }
   ],
   "source": [
    "s = \"First part of string\\n\" + \"second part of string\\n\"\n",
    "print(s)\n",
    "# concatenating the second part to the end of the string 5 times\n",
    "s = \"First part of string\\n\" + \"second part of string\\n\" * 5\n",
    "print(s)\n"
   ],
   "metadata": {
    "collapsed": false
   }
  },
  {
   "cell_type": "markdown",
   "source": [
    "Like other objects in Python, string objects implement a len(object) method that returns the count of letters in the string\n",
    "- You can also use other normally implemented Python methods like type(object) to return the type of a string which is str"
   ],
   "metadata": {
    "collapsed": false
   }
  },
  {
   "cell_type": "code",
   "execution_count": 22,
   "outputs": [
    {
     "name": "stdout",
     "output_type": "stream",
     "text": [
      "Length: 131\n"
     ]
    }
   ],
   "source": [
    "print(f'Length: {len(s)}')"
   ],
   "metadata": {
    "collapsed": false
   }
  },
  {
   "cell_type": "markdown",
   "source": [
    " Strings are lists of characters, so you can use list indexing syntax to retrieve characters from the strings"
   ],
   "metadata": {
    "collapsed": false
   }
  },
  {
   "cell_type": "code",
   "execution_count": 23,
   "outputs": [
    {
     "name": "stdout",
     "output_type": "stream",
     "text": [
      "First char: F\n",
      "Last char: \n",
      "\n"
     ]
    }
   ],
   "source": [
    "print(f'First char: {s[0]}')\n",
    "# Keep in mind that the last character of the string was \\n which means a new line\n",
    "print(f'Last char: {s[len(s) -1]}')"
   ],
   "metadata": {
    "collapsed": false
   }
  },
  {
   "cell_type": "markdown",
   "source": [
    "## Slices\n",
    "You can use slicing syntax to return substrings of a string"
   ],
   "metadata": {
    "collapsed": false
   }
  },
  {
   "cell_type": "code",
   "execution_count": 24,
   "outputs": [
    {
     "name": "stdout",
     "output_type": "stream",
     "text": [
      "First 5 characters of the string: First\n",
      "The last 5 characters of the string: tring\n"
     ]
    }
   ],
   "source": [
    "print(f'First 5 characters of the string: {s[0:5]}')\n",
    "# Here we are using negative slicing coordinates to signify that we want the chars starting from the last 5th char to the last char\n",
    "print(f'The last 5 characters of the string: {s[-6: -1]}')\n"
   ],
   "metadata": {
    "collapsed": false
   }
  },
  {
   "cell_type": "markdown",
   "source": [
    "### Reversing a string"
   ],
   "metadata": {
    "collapsed": false
   }
  },
  {
   "cell_type": "code",
   "execution_count": 25,
   "outputs": [
    {
     "name": "stdout",
     "output_type": "stream",
     "text": [
      "Reversed string: \n",
      "gnirts fo trap dnoces\n",
      "gnirts fo trap dnoces\n",
      "gnirts fo trap dnoces\n",
      "gnirts fo trap dnoces\n",
      "gnirts fo trap dnoces\n",
      "gnirts fo trap tsriF\n"
     ]
    }
   ],
   "source": [
    "# You can use slicing coordinates to reverse a string\n",
    "print(f'Reversed string: {s[::-1]}')\n",
    "# This slice coordinate indicates that we want every char in the string\n",
    "# but by building starting from the end and decrementing by one until we reach the first char"
   ],
   "metadata": {
    "collapsed": false
   }
  },
  {
   "cell_type": "code",
   "execution_count": 25,
   "outputs": [],
   "source": [],
   "metadata": {
    "collapsed": false
   }
  },
  {
   "cell_type": "markdown",
   "source": [
    "## String comparing\n",
    "- You can use normal logical operators like >=, >,<,<=,==\n",
    "  - These operators are compare strings alphabetically\n",
    "- You can also use other built-in logical methods for strings like .lower() to check if the lowercase version of a word matches another string\n",
    "-"
   ],
   "metadata": {
    "collapsed": false
   }
  },
  {
   "cell_type": "code",
   "execution_count": 26,
   "outputs": [
    {
     "data": {
      "text/plain": "True"
     },
     "execution_count": 26,
     "metadata": {},
     "output_type": "execute_result"
    }
   ],
   "source": [
    "x = \"Turtle\"\n",
    "y = \"Termite\"\n",
    "# Returns true\n",
    "x > y"
   ],
   "metadata": {
    "collapsed": false
   }
  },
  {
   "cell_type": "markdown",
   "source": [
    "- Additionally, you can use the in operator to check if a string is a substring in another string.\n",
    "- aka. if the first string is contained in the second string"
   ],
   "metadata": {
    "collapsed": false
   }
  },
  {
   "cell_type": "code",
   "execution_count": 27,
   "outputs": [
    {
     "name": "stdout",
     "output_type": "stream",
     "text": [
      "Tu is in the word Turtle\n"
     ]
    }
   ],
   "source": [
    "z = \"le\"\n",
    "\n",
    "if z in x:\n",
    "    print(f'Tu is in the word Turtle')\n",
    "elif z not in x:\n",
    "    print(f'Tu is not in the word Turtle')\n"
   ],
   "metadata": {
    "collapsed": false
   }
  },
  {
   "cell_type": "markdown",
   "source": [
    "## Format method\n",
    "- Another useful method implemented for strings is the format method. The syntax for using this is similar to f-strings we have seen in the past"
   ],
   "metadata": {
    "collapsed": false
   }
  },
  {
   "cell_type": "code",
   "execution_count": 28,
   "outputs": [
    {
     "name": "stdout",
     "output_type": "stream",
     "text": [
      "Date: Jan 1st, Time: 11:53PM\n",
      "\n",
      "Name: Bob, ID: 323254, UserID: 323254\n",
      "\n"
     ]
    }
   ],
   "source": [
    "format_str = \"Date: {}, Time: {}\\n\"\n",
    "print(format_str.format(\"Jan 1st\", \"11:53PM\"))\n",
    "# Additionally you can specify repeated objects in the f-string\n",
    "format_str_2 = \"Name: {0}, ID: {1}, UserID: {1}\\n\"\n",
    "\n",
    "print(format_str_2.format(\"Bob\", 323254))\n"
   ],
   "metadata": {
    "collapsed": false
   }
  },
  {
   "cell_type": "code",
   "execution_count": 28,
   "outputs": [],
   "source": [],
   "metadata": {
    "collapsed": false
   }
  }
 ],
 "metadata": {
  "kernelspec": {
   "display_name": "Python 3",
   "language": "python",
   "name": "python3"
  },
  "language_info": {
   "codemirror_mode": {
    "name": "ipython",
    "version": 2
   },
   "file_extension": ".py",
   "mimetype": "text/x-python",
   "name": "python",
   "nbconvert_exporter": "python",
   "pygments_lexer": "ipython2",
   "version": "2.7.6"
  }
 },
 "nbformat": 4,
 "nbformat_minor": 0
}
