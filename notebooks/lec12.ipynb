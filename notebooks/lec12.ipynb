{
 "cells": [
  {
   "cell_type": "markdown",
   "source": [
    "# Lecture 11 - Classes and Objects\n",
    "- Methods are functions associated with a class\n",
    "  - ex: Say we have a Python object Car. It makes sense to have method Car.accelerate()\n",
    "- Since Objects are mutable, we can choose to create modifier methods that alter the 'fields' of the object"
   ],
   "metadata": {
    "collapsed": false
   }
  },
  {
   "cell_type": "code",
   "execution_count": 11,
   "metadata": {
    "collapsed": true
   },
   "outputs": [
    {
     "name": "stdout",
     "output_type": "stream",
     "text": [
      "Speed when we initialize object: 0\n",
      "Speed when call the modifier accelerate method: 10\n",
      "Speed when call the modifier accelerate method: 3817.2245484274804\n"
     ]
    }
   ],
   "source": [
    "# Example\n",
    "class Plane:\n",
    "    def __init__(self, speed=0):\n",
    "        # speed is our field for this object\n",
    "        self.speed = speed\n",
    "        # we can create a bunch more fields if we'd like\n",
    "        self.tank= 100\n",
    "\n",
    "    def accelerate(self, accel=10, gas_usage=5):\n",
    "        self.speed += accel\n",
    "        self.tank  -= gas_usage\n",
    "\n",
    "SR71_BlackBird = Plane()\n",
    "print(f\"Speed when we initialize object: {SR71_BlackBird.speed}\")\n",
    "SR71_BlackBird.accelerate()\n",
    "print(f\"Speed when call the modifier accelerate method: {SR71_BlackBird.speed}\")\n",
    "\n",
    "import random\n",
    "for i in range(100):\n",
    "    rand = random.uniform(0,10)\n",
    "    if rand > 5:\n",
    "        SR71_BlackBird.accelerate(rand * 10)\n",
    "\n",
    "print(f\"Speed when call the modifier accelerate method: {SR71_BlackBird.speed}\")\n"
   ]
  },
  {
   "cell_type": "markdown",
   "source": [
    "## ls vs ==\n",
    "- we have used == to compare two variables to see if they are set to the same value\n",
    "- For objects, we can compare then using 'is' to check if a variable is the same object in memory\n",
    "-"
   ],
   "metadata": {
    "collapsed": false
   }
  },
  {
   "cell_type": "code",
   "execution_count": 17,
   "outputs": [
    {
     "name": "stdout",
     "output_type": "stream",
     "text": [
      "SR71_BlackBird isn't the same memory reference as copy_plane\n"
     ]
    }
   ],
   "source": [
    "# This should fail because Plane is the object type\n",
    "copy_plane = Plane()\n",
    "if SR71_BlackBird is copy_plane:\n",
    "    print(f\"SR71_BlackBird is the same memory reference as copy_plane\")\n",
    "else:\n",
    "    print(f\"SR71_BlackBird isn't the same memory reference as copy_plane\")\n"
   ],
   "metadata": {
    "collapsed": false
   }
  },
  {
   "cell_type": "markdown",
   "source": [],
   "metadata": {
    "collapsed": false
   }
  },
  {
   "cell_type": "code",
   "execution_count": null,
   "outputs": [],
   "source": [],
   "metadata": {
    "collapsed": false
   }
  },
  {
   "cell_type": "markdown",
   "source": [],
   "metadata": {
    "collapsed": false
   }
  }
 ],
 "metadata": {
  "kernelspec": {
   "display_name": "Python 3",
   "language": "python",
   "name": "python3"
  },
  "language_info": {
   "codemirror_mode": {
    "name": "ipython",
    "version": 2
   },
   "file_extension": ".py",
   "mimetype": "text/x-python",
   "name": "python",
   "nbconvert_exporter": "python",
   "pygments_lexer": "ipython2",
   "version": "2.7.6"
  }
 },
 "nbformat": 4,
 "nbformat_minor": 0
}
