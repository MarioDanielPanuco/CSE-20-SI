{
 "cells": [
  {
   "cell_type": "markdown",
   "source": [
    "## Fill in the blank\n",
    "You are given a database of users, after you have parsed the database to create a dictionary of key_value pairs (username is the key, user_id is the value).\n",
    "Hints: Get the keys of the dictionary and the values of the dictionary to validate user input\n"
   ],
   "metadata": {
    "collapsed": false
   }
  },
  {
   "cell_type": "code",
   "execution_count": 5,
   "metadata": {
    "collapsed": true
   },
   "outputs": [
    {
     "name": "stdout",
     "output_type": "stream",
     "text": [
      "Found value\n"
     ]
    }
   ],
   "source": [
    "users = {'Bob' : 2323, 'James': 9634, 'Pheobe': 30323}\n",
    "\n",
    "input_name = input('Enter username: ')\n",
    "input_id = int(input('Enter user_id: '))\n",
    "\n",
    "# if _COND_ and _COND_:\n",
    "#   print(f'\n",
    "# else if _COND_ and !_COND_:\n",
    "# else if !_COND_ and _COND_:\n"
   ]
  },
  {
   "cell_type": "markdown",
   "source": [],
   "metadata": {
    "collapsed": false
   }
  },
  {
   "cell_type": "markdown",
   "source": [
    "## Pair activity\n",
    "Design a challenge for the other student that requires the other student to write a function that builds and returns a list, dictionary, or tuple. You are free to have any arguments in the function, so long as you provide an example function arguments for the other student to test their code."
   ],
   "metadata": {
    "collapsed": false
   }
  },
  {
   "cell_type": "markdown",
   "source": [
    "## Quiz\n",
    "- Read comprehension, but not write\n",
    "- Tuples, Lists, Dictionaries"
   ],
   "metadata": {
    "collapsed": false
   }
  }
 ],
 "metadata": {
  "kernelspec": {
   "display_name": "Python 3",
   "language": "python",
   "name": "python3"
  },
  "language_info": {
   "codemirror_mode": {
    "name": "ipython",
    "version": 2
   },
   "file_extension": ".py",
   "mimetype": "text/x-python",
   "name": "python",
   "nbconvert_exporter": "python",
   "pygments_lexer": "ipython2",
   "version": "2.7.6"
  }
 },
 "nbformat": 4,
 "nbformat_minor": 0
}
