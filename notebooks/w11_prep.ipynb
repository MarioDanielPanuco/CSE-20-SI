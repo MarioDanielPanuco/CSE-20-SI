{
 "cells": [
  {
   "cell_type": "code",
   "execution_count": 21,
   "outputs": [
    {
     "name": "stdout",
     "output_type": "stream",
     "text": [
      "San Francisco is in the area_codes dictionary.\n",
      "The area code for San Francisco is 415.\n",
      "San Francisco: 415\n",
      "San Jose: 408\n",
      "Berkeley: 510\n"
     ]
    }
   ],
   "source": [
    "area_codes = {\"San Francisco\": 415, \"San Jose\": 408, \"Oakland\": 510}\n",
    "\n",
    "# Add a new city to the dictionary\n",
    "area_codes[\"Berkeley\"] = 510\n",
    "\n",
    "# Remove a city from the dictionary\n",
    "del area_codes[\"Oakland\"]\n",
    "\n",
    "# Check if a city is in the dictionary\n",
    "if \"San Francisco\" in area_codes:\n",
    "    print(\"San Francisco is in the area_codes dictionary.\")\n",
    "\n",
    "# Get the area code for a specific city\n",
    "sf_code = area_codes.get(\"San Francisco\")\n",
    "print(f\"The area code for San Francisco is {sf_code}.\")\n",
    "\n",
    "# Loop through all cities and their corresponding area codes\n",
    "for city, code in area_codes.items():\n",
    "    print(f\"{city}: {code}\")"
   ],
   "metadata": {
    "collapsed": false
   }
  },
  {
   "cell_type": "markdown",
   "source": [
    "## Lambda function to sort a dictionary by the $key \\in (K,V)$\n"
   ],
   "metadata": {
    "collapsed": false
   }
  },
  {
   "cell_type": "code",
   "execution_count": 22,
   "outputs": [
    {
     "name": "stdout",
     "output_type": "stream",
     "text": [
      "San Jose: 408\n",
      "San Francisco: 415\n",
      "Berkeley: 510\n"
     ]
    }
   ],
   "source": [
    "# Sort the area_codes dictionary by value using a lambda function\n",
    "sorted_area_codes = dict(sorted(area_codes.items(), key=lambda item: item[1]))\n",
    "\n",
    "# Print the sorted dictionary\n",
    "for city, code in sorted_area_codes.items():\n",
    "    print(f\"{city}: {code}\")"
   ],
   "metadata": {
    "collapsed": false
   }
  },
  {
   "cell_type": "markdown",
   "source": [
    "Lambda functions are small anonymous functions that can take any number of arguments but can only have one expression. They are often used when you need to pass a short, simple function as an argument to another function. Here are some other common uses for lambda functions in Python:\n",
    "\n",
    "## Filtering:\n",
    " You can use a lambda function with the filter() function to filter a list based on a condition. For example:"
   ],
   "metadata": {
    "collapsed": false
   }
  },
  {
   "cell_type": "code",
   "execution_count": 23,
   "outputs": [
    {
     "name": "stdout",
     "output_type": "stream",
     "text": [
      "[2, 4]\n"
     ]
    }
   ],
   "source": [
    "numbers = [1, 2, 3, 4, 5]\n",
    "even_numbers = list(filter(lambda x: x % 2 == 0, numbers))\n",
    "print(even_numbers) # [2, 4]"
   ],
   "metadata": {
    "collapsed": false
   }
  },
  {
   "cell_type": "markdown",
   "source": [
    "## Mapping:\n",
    " You can use a lambda function with the map() function to apply a transformation to each element in a list. For example:"
   ],
   "metadata": {
    "collapsed": false
   }
  },
  {
   "cell_type": "code",
   "execution_count": 24,
   "outputs": [
    {
     "name": "stdout",
     "output_type": "stream",
     "text": [
      "[1, 4, 9, 16, 25]\n"
     ]
    }
   ],
   "source": [
    "numbers = [1, 2, 3, 4, 5]\n",
    "squared_numbers = list(map(lambda x: x**2, numbers))\n",
    "print(squared_numbers) # [1, 4, 9, 16, 25]"
   ],
   "metadata": {
    "collapsed": false
   }
  },
  {
   "cell_type": "markdown",
   "source": [
    "## Reducing:\n",
    " You can use a lambda function with the reduce() function from the functools module to reduce a list to a single value by applying a binary operation to the elements of the list. For example:\n"
   ],
   "metadata": {
    "collapsed": false
   }
  },
  {
   "cell_type": "code",
   "execution_count": 25,
   "outputs": [
    {
     "name": "stdout",
     "output_type": "stream",
     "text": [
      "24\n"
     ]
    }
   ],
   "source": [
    "from functools import reduce\n",
    "\n",
    "numbers = [1, 2, 3, 4]\n",
    "product = reduce(lambda x,y: x*y,numbers)\n",
    "print(product) #24"
   ],
   "metadata": {
    "collapsed": false
   }
  },
  {
   "cell_type": "markdown",
   "source": [
    "Now lets create a City object that's holding the city name and it's population as object atrributes/fields. City is an object that has a name and population. We are also overloading some operators so we can compare populations."
   ],
   "metadata": {
    "collapsed": false
   }
  },
  {
   "cell_type": "code",
   "execution_count": 26,
   "outputs": [],
   "source": [
    "class City:\n",
    "    def __init__(self, name, population):\n",
    "        self.name = name\n",
    "        self.population = population\n",
    "\n",
    "    def __lt__(self, other):\n",
    "        return self.population < other.population\n",
    "\n",
    "    def __gt__(self, other):\n",
    "        return self.population > other.population\n",
    "\n",
    "    def __eq__(self, other):\n",
    "        return self.population == other.population\n",
    "\n",
    "    def __str__(self):\n",
    "        return f\"{self.name}: {self.population}\""
   ],
   "metadata": {
    "collapsed": false
   }
  },
  {
   "cell_type": "code",
   "execution_count": 27,
   "outputs": [
    {
     "name": "stdout",
     "output_type": "stream",
     "text": [
      "Oakland: 425195\n",
      "San Francisco: 883305\n",
      "San Jose: 1030119\n"
     ]
    }
   ],
   "source": [
    "cities = {\n",
    "    \"San Francisco\": City(\"San Francisco\", 883305),\n",
    "    \"San Jose\": City(\"San Jose\", 1030119),\n",
    "    \"Oakland\": City(\"Oakland\", 425195)\n",
    "}\n",
    "\n",
    "# Sort the cities dictionary by value using the overridden comparator operators\n",
    "sorted_cities = dict(sorted(cities.items(), key=lambda item: item[1]))\n",
    "\n",
    "# Print the sorted dictionary\n",
    "for city_name, city in sorted_cities.items():\n",
    "    print(city)"
   ],
   "metadata": {
    "collapsed": false
   }
  },
  {
   "cell_type": "markdown",
   "source": [
    "## Advice for exam\n",
    "- Use lecture notes as reference\n",
    "- Watch yuja challenge recordings\n",
    "- Review Zybooks challenges\n",
    "- Give Chat GPT the course syllabus tell it what you about the contents of the final. Design an interesting problem that combines multiple topics from the course or work with it to design such a problem then ask for the Python solution.\n",
    "  - This can help you learn think about a program as an abstraction of instructions, not Python code."
   ],
   "metadata": {
    "collapsed": false
   }
  },
  {
   "cell_type": "markdown",
   "source": [],
   "metadata": {
    "collapsed": false
   }
  },
  {
   "cell_type": "code",
   "execution_count": 27,
   "outputs": [],
   "source": [],
   "metadata": {
    "collapsed": false
   }
  }
 ],
 "metadata": {
  "kernelspec": {
   "display_name": "Python 3",
   "language": "python",
   "name": "python3"
  },
  "language_info": {
   "codemirror_mode": {
    "name": "ipython",
    "version": 2
   },
   "file_extension": ".py",
   "mimetype": "text/x-python",
   "name": "python",
   "nbconvert_exporter": "python",
   "pygments_lexer": "ipython2",
   "version": "2.7.6"
  }
 },
 "nbformat": 4,
 "nbformat_minor": 0
}
