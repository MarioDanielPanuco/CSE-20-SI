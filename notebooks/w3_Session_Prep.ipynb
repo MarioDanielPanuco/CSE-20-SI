{
 "cells": [
  {
   "cell_type": "markdown",
   "source": [
    "## Loops\n",
    "  - Multiple ways to go about loops or iterators across languages\n",
    "  - We'll be going over for and while loops"
   ],
   "metadata": {
    "collapsed": false
   }
  },
  {
   "cell_type": "code",
   "execution_count": 10,
   "outputs": [
    {
     "name": "stdout",
     "output_type": "stream",
     "text": [
      "i,j: 0,0:\n",
      " 0.48750187295823366\n",
      "i,j: 0,1:\n",
      " 0.9077176734129314\n",
      "i,j: 1,0:\n",
      " 0.21725757564495873\n",
      "i,j: 1,1:\n",
      " 0.17869194733822813\n",
      "Count: 4\n"
     ]
    }
   ],
   "source": [
    "import numpy as np\n",
    "\n",
    "n = 2\n",
    "twod = np.random.random((n, n))\n",
    "count = 0\n",
    "for i in range(0, n):\n",
    "    for j in range(0,n):\n",
    "        print(f'i,j: {i},{j}:\\n {twod[i,j]}')\n",
    "        count += 1\n",
    "\n",
    "print(f'Count: {count}')"
   ],
   "metadata": {
    "collapsed": false
   }
  },
  {
   "cell_type": "markdown",
   "source": [
    "## Challenge\n",
    "Print the odd numbers 2D array of size $n \\times n$ in reverse using array-indexing syntax ie array\\[index_1\\]\\[index_2\\]\n",
    "- Hint: Using the range function works, you just have to change two lines of code from the previous example\n",
    "- [Range Python Docs](https://docs.python.org/3/library/functions.html#func-range)"
   ],
   "metadata": {
    "collapsed": false
   }
  },
  {
   "cell_type": "code",
   "execution_count": 23,
   "outputs": [
    {
     "name": "stdout",
     "output_type": "stream",
     "text": [
      "[[0.54641203 0.63265213 0.69823858 0.34581273]\n",
      " [0.76176635 0.78613158 0.43316514 0.29159059]\n",
      " [0.17263117 0.69479893 0.44257255 0.87066134]\n",
      " [0.50802832 0.62007717 0.38145426 0.20391151]]\n",
      "i,j: 2,2:\n",
      " 0.4425725513148684\n",
      "i,j: 2,0:\n",
      " 0.17263116992522187\n",
      "i,j: 0,2:\n",
      " 0.6982385802657936\n",
      "i,j: 0,0:\n",
      " 0.5464120261286428\n",
      "Count: 4\n"
     ]
    }
   ],
   "source": [
    "## Solution\n",
    "import numpy as np\n",
    "\n",
    "n = 4\n",
    "twod = np.random.random((n, n))\n",
    "count = 0\n",
    "print(twod)\n",
    "# print(f'array:\\n{twod}')\n",
    "for i in range(n-1, -1, -1):\n",
    "    if (i % 2) != 0:\n",
    "        continue\n",
    "    for j in range(n-1, -1, -1):\n",
    "        if (j % 2) != 0:\n",
    "           continue\n",
    "        print(f'i,j: {i},{j}:\\n {twod[i,j]}')\n",
    "        count += 1\n",
    "\n",
    "print(f'Count: {count}')"
   ],
   "metadata": {
    "collapsed": false
   }
  },
  {
   "cell_type": "markdown",
   "source": [
    "## While loops\n",
    "- Form: while CONDITION: {procedure}\n",
    "- Goes into while loop if condition is true, at the end of while\n",
    "indent it goes back to the check the condition. If the condition is still true then it goes back into the loop, if condition is false then it jumps to the first line after the loop"
   ],
   "metadata": {
    "collapsed": false
   }
  },
  {
   "cell_type": "code",
   "execution_count": 7,
   "outputs": [
    {
     "name": "stdout",
     "output_type": "stream",
     "text": [
      "While loop\n",
      "i: 0, i: 1, i: 2, i: 3, i: 4, \n",
      "for loop\n",
      "i: 0, i: 1, i: 2, i: 3, i: 4, "
     ]
    }
   ],
   "source": [
    "i = 0\n",
    "\n",
    "print(f\"While loop\")\n",
    "while i < 5:\n",
    "    print(f'i: {i}', end=', ')\n",
    "    i += 1\n",
    "# this is the same as\n",
    "print(f\"\\nfor loop\")\n",
    "for i in range(5):\n",
    "    print(f'i: {i}', end=', ')\n"
   ],
   "metadata": {
    "collapsed": false
   }
  },
  {
   "cell_type": "code",
   "execution_count": null,
   "outputs": [],
   "source": [],
   "metadata": {
    "collapsed": false
   }
  }
 ],
 "metadata": {
  "kernelspec": {
   "display_name": "Python 3",
   "language": "python",
   "name": "python3"
  },
  "language_info": {
   "codemirror_mode": {
    "name": "ipython",
    "version": 2
   },
   "file_extension": ".py",
   "mimetype": "text/x-python",
   "name": "python",
   "nbconvert_exporter": "python",
   "pygments_lexer": "ipython2",
   "version": "2.7.6"
  }
 },
 "nbformat": 4,
 "nbformat_minor": 0
}
