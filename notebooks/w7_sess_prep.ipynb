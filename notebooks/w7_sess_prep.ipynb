{
 "cells": [
  {
   "cell_type": "markdown",
   "source": [
    "# Week 7: Files and Modules\n",
    "- This week covers useful material for structuring a complex project that requires you to write local library modules and interact with files.\n",
    "- Reading/Writing from files is used by my computer systems as a communication link between different processes\n"
   ],
   "metadata": {
    "collapsed": false
   }
  },
  {
   "cell_type": "markdown",
   "source": [
    "## UNIX breakdown\n",
    "- The terminal\n",
    "- UCSC's student UNIX servers are a great way of interacting with a UNIX environment\n"
   ],
   "metadata": {
    "collapsed": false
   }
  },
  {
   "cell_type": "code",
   "execution_count": 31,
   "metadata": {
    "collapsed": true
   },
   "outputs": [],
   "source": [
    "# Below we are calling open on the file pathname and setting the writing permissions\n",
    "file_pathname = 'report.txt'\n",
    "permissions = 'w'\n",
    "my_file = open(file_pathname, permissions)\n",
    "# open returns a 'file handle' we can use to perform operations like write/read to the file\n",
    "\n",
    "my_file.close()\n"
   ]
  },
  {
   "cell_type": "markdown",
   "source": [
    "### Files\n",
    "- You use files to debug\n",
    "  - try writing your programs with 2 files, one called standard_out which you can use for normal printing, and another called stderr where can send error messages or debugging messages"
   ],
   "metadata": {
    "collapsed": false
   }
  },
  {
   "cell_type": "markdown",
   "source": [
    "Working with CSV files:\n",
    "[CSV Docs](https://docs.python.org/3.10/library/csv.html)"
   ],
   "metadata": {
    "collapsed": false
   }
  },
  {
   "cell_type": "markdown",
   "source": [
    "This Python code reads a CSV file and stores each row of the file in a LineHolder object. The code uses the built-in open function to open the file and the csv module to parse the file."
   ],
   "metadata": {
    "collapsed": false
   }
  },
  {
   "cell_type": "code",
   "execution_count": 32,
   "outputs": [
    {
     "name": "stdout",
     "output_type": "stream",
     "text": [
      "Row:  ['I have this thing where I get older but just never wiser']\n",
      "Row:  ['Midnights become my afternoons']\n",
      "Row:  ['When my depression works the graveyard shift']\n",
      "Row:  [\"All of the people I've ghosted stand there in the room\"]\n",
      "Row:  []\n",
      "Row:  ['I should not be left to my own devices']\n",
      "Row:  ['They come with prices and vices']\n",
      "Row:  ['I end up in crisis (tale as old as time)']\n",
      "Row:  ['I wake up screaming from dreaming']\n",
      "Row:  [\"One day I'll watch as you're leaving\"]\n",
      "Row:  [\"'Cause you got tired of my scheming\"]\n",
      "Row:  ['(For the last time)']\n",
      "Row:  []\n",
      "Row:  [\"It's me\", ' hi', \" I'm the problem\", \" it's me\"]\n",
      "Row:  ['At tea time', ' everybody agrees']\n",
      "Row:  [\"I'll stare directly at the sun but never in the mirror\"]\n",
      "Row:  ['It must be exhausting always rooting for the anti-hero']\n",
      "Row:  []\n",
      "Row:  ['Sometimes I feel like everybody is a sexy baby']\n",
      "Row:  [\"And I'm a monster on the hill\"]\n",
      "Row:  ['Too big to hang out', ' slowly lurching toward your favorite city']\n",
      "Row:  ['Pierced through the heart', ' but never killed']\n",
      "Row:  []\n",
      "Row:  ['Did you hear my covert narcissism I disguise as altruism']\n",
      "Row:  ['Like some kind of congressman? (Tale as old as time)']\n",
      "Row:  ['I wake up screaming from dreaming']\n",
      "Row:  [\"One day I'll watch as you're leaving\"]\n",
      "Row:  ['And life will lose all its meaning']\n",
      "Row:  ['(For the last time)']\n",
      "Row:  []\n",
      "Row:  [\"It's me\", ' hi', \" I'm the problem\", \" it's me (I'm the problem\", \" it's me)\"]\n",
      "Row:  ['At tea time', ' everybody agrees']\n",
      "Row:  [\"I'll stare directly at the sun but never in the mirror\"]\n",
      "Row:  ['It must be exhausting always rooting for the anti-hero']\n",
      "Row:  []\n",
      "Row:  ['I have this dream my daughter in-law kills me for the money']\n",
      "Row:  ['She thinks I left them in the will']\n",
      "Row:  [\"The family gathers 'round and reads it and then someone screams out\"]\n",
      "Row:  [\"She's laughing up at us from hell\"]\n",
      "Row:  []\n",
      "Row:  [\"It's me\", ' hi', \" I'm the problem\", \" it's me\"]\n",
      "Row:  [\"It's me\", ' hi', \" I'm the problem\", \" it's me\"]\n",
      "Row:  [\"It's me\", ' hi', ' everybody agrees', ' everybody agrees']\n",
      "Row:  []\n",
      "Row:  [\"It's me\", ' hi (hi)', \" I'm the problem\", \" it's me (I'm the problem\", \" it's me)\"]\n",
      "Row:  ['At tea (tea) time (time)', ' everybody agrees (everybody agrees)']\n",
      "Row:  [\"I'll stare directly at the sun but never in the mirror\"]\n",
      "Row:  ['It must be exhausting always rooting for the anti-hero']\n",
      "All lines in the file:\n",
      "['I have this thing where I get older but just never wiser']\n",
      "['Midnights become my afternoons']\n",
      "['When my depression works the graveyard shift']\n",
      "[\"All of the people I've ghosted stand there in the room\"]\n",
      "[]\n",
      "['I should not be left to my own devices']\n",
      "['They come with prices and vices']\n",
      "['I end up in crisis (tale as old as time)']\n",
      "['I wake up screaming from dreaming']\n",
      "[\"One day I'll watch as you're leaving\"]\n",
      "[\"'Cause you got tired of my scheming\"]\n",
      "['(For the last time)']\n",
      "[]\n",
      "[\"It's me\", ' hi', \" I'm the problem\", \" it's me\"]\n",
      "['At tea time', ' everybody agrees']\n",
      "[\"I'll stare directly at the sun but never in the mirror\"]\n",
      "['It must be exhausting always rooting for the anti-hero']\n",
      "[]\n",
      "['Sometimes I feel like everybody is a sexy baby']\n",
      "[\"And I'm a monster on the hill\"]\n",
      "['Too big to hang out', ' slowly lurching toward your favorite city']\n",
      "['Pierced through the heart', ' but never killed']\n",
      "[]\n",
      "['Did you hear my covert narcissism I disguise as altruism']\n",
      "['Like some kind of congressman? (Tale as old as time)']\n",
      "['I wake up screaming from dreaming']\n",
      "[\"One day I'll watch as you're leaving\"]\n",
      "['And life will lose all its meaning']\n",
      "['(For the last time)']\n",
      "[]\n",
      "[\"It's me\", ' hi', \" I'm the problem\", \" it's me (I'm the problem\", \" it's me)\"]\n",
      "['At tea time', ' everybody agrees']\n",
      "[\"I'll stare directly at the sun but never in the mirror\"]\n",
      "['It must be exhausting always rooting for the anti-hero']\n",
      "[]\n",
      "['I have this dream my daughter in-law kills me for the money']\n",
      "['She thinks I left them in the will']\n",
      "[\"The family gathers 'round and reads it and then someone screams out\"]\n",
      "[\"She's laughing up at us from hell\"]\n",
      "[]\n",
      "[\"It's me\", ' hi', \" I'm the problem\", \" it's me\"]\n",
      "[\"It's me\", ' hi', \" I'm the problem\", \" it's me\"]\n",
      "[\"It's me\", ' hi', ' everybody agrees', ' everybody agrees']\n",
      "[]\n",
      "[\"It's me\", ' hi (hi)', \" I'm the problem\", \" it's me (I'm the problem\", \" it's me)\"]\n",
      "['At tea (tea) time (time)', ' everybody agrees (everybody agrees)']\n",
      "[\"I'll stare directly at the sun but never in the mirror\"]\n",
      "['It must be exhausting always rooting for the anti-hero']\n"
     ]
    }
   ],
   "source": [
    "import csv\n",
    "\n",
    "class LineHolder:\n",
    "    def __init__(self):\n",
    "        self.lines = []\n",
    "\n",
    "    def parse_line(self, line):\n",
    "        self.lines.append(line)\n",
    "\n",
    "# Get the file name from user input\n",
    "file_name = input(\"Enter the name of the CSV file: \")\n",
    "\n",
    "# Open the file for reading and create a CSV reader object\n",
    "with open(file_name, 'r') as file:\n",
    "    csv_reader = csv.reader(file)\n",
    "\n",
    "    # Create a LineHolder object to hold the rows of the CSV file\n",
    "    lh = LineHolder()\n",
    "\n",
    "    # Iterate over each row in the CSV file\n",
    "    for row in csv_reader:\n",
    "        lh.parse_line(row)\n",
    "\n",
    "        # Print each row for debugging purposes\n",
    "        print(\"Row: \", row)\n",
    "\n",
    "# Print the lines in the LineHolder object\n",
    "print(\"All lines in the file:\")\n",
    "for line in lh.lines:\n",
    "    print(line)"
   ],
   "metadata": {
    "collapsed": false
   }
  },
  {
   "cell_type": "markdown",
   "source": [
    "### How the code works\n",
    "The code prompts the user to enter the name of a CSV file. It then opens the file using the open function and creates a csv.reader object from the file.\n",
    "\n",
    "A LineHolder object is created to hold the rows of the CSV file. The code then iterates over each row in the CSV file, parses the row using the parse_line method of the LineHolder object, and prints each row for debugging purposes.\n",
    "\n",
    "Finally, the code prints all lines in the LineHolder object by iterating over its lines attribute.\n",
    "\n",
    "### Expanding the code\n",
    "Students can expand this code to perform various tasks on the CSV file. Here are some ideas:\n",
    "\n",
    "- Filtering rows based on a condition: Students can add a method to the LineHolder class to filter rows based on a condition. For example, they could filter out rows that do not meet a certain criteria, or extract rows that contain certain keywords.\n",
    "\n",
    "- Computing statistics: Students can add a method to the LineHolder class to compute statistics on the CSV file. For example, they could compute the mean or median of a certain column, or count the number of rows that meet a certain criteria.\n",
    "\n",
    "- Writing to a new file: Students can modify the code to write the contents of the LineHolder object to a new CSV file. They can use the csv.writer class to write rows to the new file.\n",
    "\n",
    "- Using command-line arguments: Students can modify the code to take the name of the CSV file as a command-line argument, rather than prompting the user to enter it. They can use the argparse module to parse command-line arguments.\n",
    "\n",
    "- Handling different types of delimiters: By default, the csv.reader class assumes that CSV files are comma-separated. However, students can modify the code to handle different types of delimiters, such as tab-separated or pipe-separated values. They can use the csv.Dialect class to define a new dialect for the CSV file.\n",
    "\n"
   ],
   "metadata": {
    "collapsed": false
   }
  },
  {
   "cell_type": "markdown",
   "source": [
    "# Code scramble challenge"
   ],
   "metadata": {
    "collapsed": false
   }
  },
  {
   "cell_type": "markdown",
   "source": [
    "# Fill-in the blank challenge"
   ],
   "metadata": {
    "collapsed": false
   }
  },
  {
   "cell_type": "markdown",
   "source": [],
   "metadata": {
    "collapsed": false
   }
  }
 ],
 "metadata": {
  "kernelspec": {
   "display_name": "Python 3",
   "language": "python",
   "name": "python3"
  },
  "language_info": {
   "codemirror_mode": {
    "name": "ipython",
    "version": 2
   },
   "file_extension": ".py",
   "mimetype": "text/x-python",
   "name": "python",
   "nbconvert_exporter": "python",
   "pygments_lexer": "ipython2",
   "version": "2.7.6"
  }
 },
 "nbformat": 4,
 "nbformat_minor": 0
}
