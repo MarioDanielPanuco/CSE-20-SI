{
 "cells": [
  {
   "cell_type": "markdown",
   "source": [
    "# Week 9 Session Prep\n",
    "- This week we are covering recursion and maybe classes if students feel like they need more practice with classes over recursion."
   ],
   "metadata": {
    "collapsed": false
   }
  },
  {
   "cell_type": "markdown",
   "source": [
    "## Bunny ears\n",
    "There are $N$ bunnies and we want to count how many bunny ears there are in total per $N$ bunnies"
   ],
   "metadata": {
    "collapsed": false
   }
  },
  {
   "cell_type": "code",
   "execution_count": 2,
   "metadata": {
    "collapsed": true
   },
   "outputs": [
    {
     "data": {
      "text/plain": "8"
     },
     "execution_count": 2,
     "metadata": {},
     "output_type": "execute_result"
    }
   ],
   "source": [
    "def bunny_ear(n):\n",
    "    if n == 0:\n",
    "        return 0\n",
    "    return bunny_ear(n - 1) + 2\n",
    "\n",
    "\n",
    "bunny_ear(4) # Output: 8"
   ]
  },
  {
   "cell_type": "markdown",
   "source": [
    "## Additional Practice With Recursion"
   ],
   "metadata": {
    "collapsed": false
   }
  },
  {
   "cell_type": "code",
   "execution_count": 2,
   "outputs": [],
   "source": [
    "__cond__ = False\n",
    "\n",
    "def sum_list(l) -> int:\n",
    "    if len(l) == 0:\n",
    "        return 0\n",
    "    elif __cond__ :\n",
    "        return l[0]\n",
    "    else:\n",
    "        pass\n",
    "\n",
    "\n",
    "# Returns index target was found at\n",
    "def binary_search(arr, target) -> int:\n",
    "    # Base case: list is empty\n",
    "    if len(arr) == 0:\n",
    "        return -1\n",
    "\n",
    "    m = len(arr) // 2\n",
    "    m_val = arr[m]\n",
    "    # Base case: target is found\n",
    "    if target == m_val:\n",
    "        pass\n",
    "    elif target < m_val:\n",
    "        # Recursive case: target in the left half\n",
    "        pass\n",
    "    else:\n",
    "        # Recursive case: target in the right half\n",
    "        pass\n"
   ],
   "metadata": {
    "collapsed": false
   }
  },
  {
   "cell_type": "markdown",
   "source": [
    "## Reflection:\n",
    "- Has the way you visualized recursion under the hood of your Python program changed after seeing the visualization tool?\n",
    "- How do your understandings of concepts such as recursion and classes compare with each other?\n",
    "- Do you think you need more practice with specific concepts or just more Python practice in general?\n"
   ],
   "metadata": {
    "collapsed": false
   }
  },
  {
   "cell_type": "markdown",
   "source": [
    "## Extra resources\n",
    "- [Python Visualizer on the Fibonacci example from class](https://pythontutor.com/visualize.html#code=def%20fib%28n%29%3A%0A%20%20%20%20if%20n%20%3D%3D%201%20or%20n%20%3D%3D%200%3A%0A%20%20%20%20%20%20%20%20return%20n%0A%20%20%20%20else%3A%0A%20%20%20%20%20%20%20%20return%20fib%28n-1%29%20%2B%20fib%28n-2%29%0A%0Afib%283%29&cumulative=false&curInstr=0&heapPrimitives=nevernest&mode=display&origin=opt-frontend.js&py=3&rawInputLstJSON=%5B%5D&textReferences=false)\n"
   ],
   "metadata": {
    "collapsed": false
   }
  }
 ],
 "metadata": {
  "kernelspec": {
   "display_name": "Python 3",
   "language": "python",
   "name": "python3"
  },
  "language_info": {
   "codemirror_mode": {
    "name": "ipython",
    "version": 2
   },
   "file_extension": ".py",
   "mimetype": "text/x-python",
   "name": "python",
   "nbconvert_exporter": "python",
   "pygments_lexer": "ipython2",
   "version": "2.7.6"
  }
 },
 "nbformat": 4,
 "nbformat_minor": 0
}
