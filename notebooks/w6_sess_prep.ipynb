{
 "cells": [
  {
   "attachments": {},
   "cell_type": "markdown",
   "metadata": {},
   "source": [
    "# Lists and Dictionaries !! \n",
    "## Lists \n",
    "- Lists in Python are the python-implemented versions of the list data structure\n",
    "- The list data structure can be visualized as nodes of information that are connected to eachother\n",
    "in a list order. Each node points to it's next, possible also it's previous, and that's how the structure remains connected as a whole\n",
    "- This means we can dynamically allocate to a list. This is useful for when we need to parse/iterate through something and add to the list as we go. \n",
    "## Dictionaries\n",
    "- Dictionaries are objects that hold a set of key value pairs $$(k,v) \\in D$$\n",
    "- This is good for keeping databases of information properly organized and ready to be index using just a key. "
   ]
  },
  {
   "cell_type": "markdown",
   "metadata": {
    "collapsed": false
   },
   "source": [
    "## Fill in the blank\n",
    "You are given a database of users, after you have parsed the database to create a dictionary of key_value pairs (username is the key, user_id is the value).\n",
    "Hints: Get the keys of the dictionary and the values of the dictionary to validate user input\n"
   ]
  },
  {
   "cell_type": "code",
   "execution_count": 1,
   "metadata": {
    "collapsed": true
   },
   "outputs": [
    {
     "ename": "ValueError",
     "evalue": "invalid literal for int() with base 10: 'user'",
     "output_type": "error",
     "traceback": [
      "\u001B[0;31m---------------------------------------------------------------------------\u001B[0m",
      "\u001B[0;31mValueError\u001B[0m                                Traceback (most recent call last)",
      "Cell \u001B[0;32mIn[1], line 4\u001B[0m\n\u001B[1;32m      1\u001B[0m users \u001B[39m=\u001B[39m {\u001B[39m'\u001B[39m\u001B[39mBob\u001B[39m\u001B[39m'\u001B[39m : \u001B[39m2323\u001B[39m, \u001B[39m'\u001B[39m\u001B[39mJames\u001B[39m\u001B[39m'\u001B[39m: \u001B[39m9634\u001B[39m, \u001B[39m'\u001B[39m\u001B[39mPheobe\u001B[39m\u001B[39m'\u001B[39m: \u001B[39m30323\u001B[39m}\n\u001B[1;32m      3\u001B[0m input_name \u001B[39m=\u001B[39m \u001B[39minput\u001B[39m(\u001B[39m'\u001B[39m\u001B[39mEnter username: \u001B[39m\u001B[39m'\u001B[39m)\n\u001B[0;32m----> 4\u001B[0m input_id \u001B[39m=\u001B[39m \u001B[39mint\u001B[39;49m(\u001B[39minput\u001B[39;49m(\u001B[39m'\u001B[39;49m\u001B[39mEnter user_id: \u001B[39;49m\u001B[39m'\u001B[39;49m))\n\u001B[1;32m      6\u001B[0m \u001B[39m# if _COND_ and _COND_:\u001B[39;00m\n\u001B[1;32m      7\u001B[0m \u001B[39m#   print(f'\u001B[39;00m\n\u001B[1;32m      8\u001B[0m \u001B[39m# else if _COND_ and !_COND_:\u001B[39;00m\n\u001B[1;32m      9\u001B[0m \u001B[39m# else if !_COND_ and _COND_:\u001B[39;00m\n",
      "\u001B[0;31mValueError\u001B[0m: invalid literal for int() with base 10: 'user'"
     ]
    }
   ],
   "source": [
    "users = {'Bob' : 2323, 'James': 9634, 'Pheobe': 30323}\n",
    "\n",
    "input_name = input('Enter username: ')\n",
    "input_id = int(input('Enter user_id: '))\n",
    "\n",
    "# if _COND_ and _COND_:\n",
    "#   print(f'\n",
    "# else if _COND_ and !_COND_:\n",
    "# else if !_COND_ and _COND_:\n"
   ]
  },
  {
   "attachments": {},
   "cell_type": "markdown",
   "metadata": {
    "collapsed": false
   },
   "source": [
    "## Takeaway from activity\n",
    "- Where you able to find of different ways you could have searched for you key/value in the dictionary? \n",
    "  - Generally try thinking of the context of what you are trying to accomplish in Python and write it in a way that clearly tells readers what your intentions for the Python interpreter are.\n",
    "- How can you further expand the code to implement things like password validation or updating important data on a user's account"
   ]
  },
  {
   "cell_type": "markdown",
   "source": [
    "## Representing a 2D point using a tuple and combining with a Dictionary\n",
    "- I used this CSE 140: Artificial Intelligence to keep track of enemy ghost locations"
   ],
   "metadata": {
    "collapsed": false
   }
  },
  {
   "cell_type": "code",
   "execution_count": null,
   "outputs": [],
   "source": [
    "cord1 = (10, 5)\n",
    "cord2 = (19, 2)\n",
    "cord3 = (13, 4)\n",
    "cord4 = (1, 9)\n",
    "\n",
    "enemy_locations = {\"g1\": cord1, \"g2\": cord2, \"g3\": cord3, \"g4\": cord4}\n",
    "\n",
    "print(enemy_locations)"
   ],
   "metadata": {
    "collapsed": false
   }
  },
  {
   "cell_type": "markdown",
   "source": [
    "## How can this example be expanded?\n",
    "- Think about how this procedure and how it can be expanded on for more complex tasks, like a game more complicated than Pacman where enemies have more \"features\" than their coordinates; what if we want their current munitions, shield, and health levels"
   ],
   "metadata": {
    "collapsed": false
   }
  },
  {
   "cell_type": "markdown",
   "metadata": {
    "collapsed": false
   },
   "source": [
    "## Pair activity\n",
    "Design a challenge for the other student that requires the other student to write a function that builds and returns a list, dictionary, or tuple. You are free to have any arguments in the function, so long as you provide an example function arguments for the other student to test their code."
   ]
  },
  {
   "cell_type": "markdown",
   "metadata": {
    "collapsed": false
   },
   "source": [
    "## Quiz\n",
    "- Read comprehension, but not write\n",
    "- Tuples, Lists, Dictionaries"
   ]
  }
 ],
 "metadata": {
  "kernelspec": {
   "display_name": "Python 3",
   "language": "python",
   "name": "python3"
  },
  "language_info": {
   "codemirror_mode": {
    "name": "ipython",
    "version": 3
   },
   "file_extension": ".py",
   "mimetype": "text/x-python",
   "name": "python",
   "nbconvert_exporter": "python",
   "pygments_lexer": "ipython3",
   "version": "3.10.4"
  },
  "vscode": {
   "interpreter": {
    "hash": "3ad933181bd8a04b432d3370b9dc3b0662ad032c4dfaa4e4f1596c548f763858"
   }
  }
 },
 "nbformat": 4,
 "nbformat_minor": 0
}
