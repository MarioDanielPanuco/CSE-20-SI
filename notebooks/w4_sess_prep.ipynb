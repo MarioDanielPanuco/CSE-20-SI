{
 "cells": [
  {
   "cell_type": "markdown",
   "source": [
    "## Scopes\n",
    "- Every function can have a set of local variables that we'll use to perform some process.\n",
    "- You can create global variables that live within the scope of the entire program, but that is usually not advised\n",
    "- Draw the scopes when writing pseudocode"
   ],
   "metadata": {
    "collapsed": false
   }
  },
  {
   "cell_type": "markdown",
   "source": [
    "## Challenge\n",
    "\n",
    "- Students explore possible solutions using pseudocode on whiteboards\n",
    "- Write algorithm in Python\n",
    "-"
   ],
   "metadata": {
    "collapsed": false
   }
  },
  {
   "cell_type": "code",
   "execution_count": 4,
   "outputs": [
    {
     "ename": "SyntaxError",
     "evalue": "invalid syntax (3889031850.py, line 9)",
     "output_type": "error",
     "traceback": [
      "\u001B[1;36m  Cell \u001B[1;32mIn[4], line 9\u001B[1;36m\u001B[0m\n\u001B[1;33m    for token in :\u001B[0m\n\u001B[1;37m                 ^\u001B[0m\n\u001B[1;31mSyntaxError\u001B[0m\u001B[1;31m:\u001B[0m invalid syntax\n"
     ]
    }
   ],
   "source": [
    "delimiter = '-'\n",
    "byte = '5'\n",
    "message = \"352-0532-6434\"\n",
    "\n",
    "# Insert code here\n",
    "\n",
    "#\n",
    "\n",
    "for token in :\n",
    "    if byte in token:\n",
    "        print(f'Found in token: {token}', end=', ')"
   ],
   "metadata": {
    "collapsed": false
   }
  },
  {
   "cell_type": "markdown",
   "source": [],
   "metadata": {
    "collapsed": false
   }
  },
  {
   "cell_type": "markdown",
   "source": [
    "## Find error in code\n",
    "- We want to print out all numerical characters we find in the following string"
   ],
   "metadata": {
    "collapsed": false
   }
  },
  {
   "cell_type": "code",
   "execution_count": null,
   "outputs": [],
   "source": [
    "phrase = \"madkfjkjjk235246j324kmnmcdsmfkalsj3523523\"\n",
    "\n",
    "final_phrase = ''\n",
    "\n",
    "for i in range(len(phrase)):\n",
    "    if phrase[i].isnumeric():\n",
    "        final_phrase = phrase[i]\n",
    "\n",
    "print(final_phrase)"
   ],
   "metadata": {
    "collapsed": false
   }
  },
  {
   "cell_type": "markdown",
   "source": [
    "## How to do a palindrome problem\n",
    "- Put the reverse of the string in another variable than compare if the variables are the same\n",
    "- Or: Create two pointers/indices and walk from the edge to the middle. Compare in each iteration."
   ],
   "metadata": {
    "collapsed": false
   }
  },
  {
   "cell_type": "markdown",
   "source": [
    "In Rust:\n",
    "\n",
    "``` Rust\n",
    "    pub fn is_palindrome(s: String) -> bool {\n",
    "        let ch: Vec<char> = s.to_lowercase().chars().filter(|c| c.is_ascii_alphanumeric()).collect();\n",
    "        let str_len = ch.len();\n",
    "\n",
    "        for i in 0..str_len {\n",
    "            let p1 = ch[i];\n",
    "            let p2 = ch[str_len - i - 1];\n",
    "\n",
    "            if p1 != p2 {\n",
    "                return false;\n",
    "            }\n",
    "        }\n",
    "        return true;\n",
    "    }\n",
    "```"
   ],
   "metadata": {
    "collapsed": false
   }
  },
  {
   "cell_type": "markdown",
   "source": [
    "## Debugging time\n",
    "- If you are confused on what a function does you can use your IDE, the Python Docs, or whatever you find from a search engine."
   ],
   "metadata": {
    "collapsed": false
   }
  }
 ],
 "metadata": {
  "kernelspec": {
   "display_name": "Python 3",
   "language": "python",
   "name": "python3"
  },
  "language_info": {
   "codemirror_mode": {
    "name": "ipython",
    "version": 2
   },
   "file_extension": ".py",
   "mimetype": "text/x-python",
   "name": "python",
   "nbconvert_exporter": "python",
   "pygments_lexer": "ipython2",
   "version": "2.7.6"
  }
 },
 "nbformat": 4,
 "nbformat_minor": 0
}
