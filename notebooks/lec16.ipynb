{
 "cells": [
  {
   "cell_type": "markdown",
   "source": [
    "# Lecture 16: Exceptions and Unit Testing\n",
    "- Unit testing allows us to compartmentalize our program and assert that individual modules work.\n",
    "- This allows up to create and run tests as we build a large program.\n",
    "-"
   ],
   "metadata": {
    "collapsed": false
   }
  },
  {
   "cell_type": "code",
   "execution_count": 1,
   "metadata": {
    "collapsed": true
   },
   "outputs": [
    {
     "name": "stderr",
     "output_type": "stream",
     "text": [
      ".\n",
      "----------------------------------------------------------------------\n",
      "Ran 1 test in 0.001s\n",
      "\n",
      "OK\n"
     ]
    },
    {
     "data": {
      "text/plain": "<unittest.main.TestProgram at 0x1985c2f0ee0>"
     },
     "execution_count": 1,
     "metadata": {},
     "output_type": "execute_result"
    }
   ],
   "source": [
    "import unittest\n",
    "\n",
    "def bunny_ears(n):\n",
    "    if n == 0:\n",
    "        return 0\n",
    "    else:\n",
    "        return 2 + bunny_ears(n - 1)\n",
    "\n",
    "class FibTest(unittest.TestCase):\n",
    "\n",
    "    def test_fib(self):\n",
    "        self.assertEqual(bunny_ears(2), 4)\n",
    "        self.assertEqual(bunny_ears(4), 8)\n",
    "        self.assertEqual(bunny_ears(6), 12)\n",
    "\n",
    "\n",
    "unittest.main(argv=[\"\"], exit=False)"
   ]
  },
  {
   "cell_type": "markdown",
   "source": [
    "## Test-driven development\n",
    "- Often-times when creating large program systems, you won't be able to properly test until you've implemented a large chunk of the program.\n",
    "- To remedy this issue, there's a programming paradigm called test-driven development\n",
    "- Test-driven development is when you write tests before implementing the program.\n",
    "- This helps you assert that the smaller components of your program work, so you can move on and continue implementing other modules.\n",
    "- Without creating tests, a programmer would be walking around in the dark for days-weeks, nescient to any emergent properties in their program."
   ],
   "metadata": {
    "collapsed": false
   }
  },
  {
   "cell_type": "markdown",
   "source": [
    "# Exceptions\n",
    "- Exceptions are used to check for runtime errors in your code.\n",
    "- They are also helpful for debugging your code. I'm sure you've seen the Python interpreter raise exceptions when there's an in error in your code."
   ],
   "metadata": {
    "collapsed": false
   }
  },
  {
   "cell_type": "code",
   "execution_count": 6,
   "outputs": [
    {
     "ename": "AssertionError",
     "evalue": "",
     "output_type": "error",
     "traceback": [
      "\u001B[1;31m---------------------------------------------------------------------------\u001B[0m",
      "\u001B[1;31mAssertionError\u001B[0m                            Traceback (most recent call last)",
      "Cell \u001B[1;32mIn[6], line 3\u001B[0m\n\u001B[0;32m      1\u001B[0m \u001B[38;5;66;03m# Example of using assert\u001B[39;00m\n\u001B[0;32m      2\u001B[0m \u001B[38;5;28;01massert\u001B[39;00m \u001B[38;5;28;01mTrue\u001B[39;00m\n\u001B[1;32m----> 3\u001B[0m \u001B[38;5;28;01massert\u001B[39;00m \u001B[38;5;28;01mFalse\u001B[39;00m\n",
      "\u001B[1;31mAssertionError\u001B[0m: "
     ]
    }
   ],
   "source": [
    "# Example of using assert\n",
    "assert True\n",
    "assert False"
   ],
   "metadata": {
    "collapsed": false
   }
  },
  {
   "cell_type": "markdown",
   "source": [
    "\n",
    "- In the cell above. We raise an exception, but don't handle it. This means our program terminates and spites some dialogue back to us in the terminal\n",
    "- We can plan for exceptions and handle them, without having to terminate, using a try/catch statement.\n",
    "- In Python the catch part of try/catch is except\n",
    "-"
   ],
   "metadata": {
    "collapsed": false
   }
  },
  {
   "cell_type": "code",
   "execution_count": null,
   "outputs": [],
   "source": [
    "try:\n",
    "    pass\n",
    "    # Code Block 1\n",
    "except [ERROR_TYPE]:\n",
    "    pass\n",
    "    # Handle for when an exception of type ERROR_TYPE is raised during runtime of Code Block 1\n",
    "    # Code Block 2"
   ],
   "metadata": {
    "collapsed": false
   }
  },
  {
   "cell_type": "markdown",
   "source": [],
   "metadata": {
    "collapsed": false
   }
  },
  {
   "cell_type": "markdown",
   "source": [
    "## Creating our own exceptions using  \"raise\"\n"
   ],
   "metadata": {
    "collapsed": false
   }
  },
  {
   "cell_type": "code",
   "execution_count": 5,
   "outputs": [
    {
     "ename": "Terminator",
     "evalue": "",
     "output_type": "error",
     "traceback": [
      "\u001B[1;31m---------------------------------------------------------------------------\u001B[0m",
      "\u001B[1;31mTerminator\u001B[0m                                Traceback (most recent call last)",
      "Cell \u001B[1;32mIn[5], line 23\u001B[0m\n\u001B[0;32m     20\u001B[0m     \u001B[38;5;28;01mfinally\u001B[39;00m:\n\u001B[0;32m     21\u001B[0m         win\u001B[38;5;241m.\u001B[39mbye()               \u001B[38;5;66;03m# Close the turtle's window\u001B[39;00m\n\u001B[1;32m---> 23\u001B[0m \u001B[43mshow_poly\u001B[49m\u001B[43m(\u001B[49m\u001B[43m)\u001B[49m\n",
      "Cell \u001B[1;32mIn[5], line 7\u001B[0m, in \u001B[0;36mshow_poly\u001B[1;34m()\u001B[0m\n\u001B[0;32m      5\u001B[0m \u001B[38;5;28;01mtry\u001B[39;00m:\n\u001B[0;32m      6\u001B[0m     win \u001B[38;5;241m=\u001B[39m turtle\u001B[38;5;241m.\u001B[39mScreen()   \u001B[38;5;66;03m# Grab/create a resource, e.g. a window\u001B[39;00m\n\u001B[1;32m----> 7\u001B[0m     tess \u001B[38;5;241m=\u001B[39m \u001B[43mturtle\u001B[49m\u001B[38;5;241;43m.\u001B[39;49m\u001B[43mTurtle\u001B[49m\u001B[43m(\u001B[49m\u001B[43m)\u001B[49m\n\u001B[0;32m      9\u001B[0m     \u001B[38;5;66;03m# This dialog could be cancelled,\u001B[39;00m\n\u001B[0;32m     10\u001B[0m     \u001B[38;5;66;03m#   or the conversion to int might fail, or n might be zero.\u001B[39;00m\n\u001B[0;32m     11\u001B[0m     n \u001B[38;5;241m=\u001B[39m \u001B[38;5;28mint\u001B[39m(\u001B[38;5;28minput\u001B[39m(\u001B[38;5;124m\"\u001B[39m\u001B[38;5;124mHow many sides do you want in your polygon?\u001B[39m\u001B[38;5;124m\"\u001B[39m))\n",
      "File \u001B[1;32m~\\.conda\\envs\\CompBio\\lib\\turtle.py:3815\u001B[0m, in \u001B[0;36mTurtle.__init__\u001B[1;34m(self, shape, undobuffersize, visible)\u001B[0m\n\u001B[0;32m   3813\u001B[0m \u001B[38;5;28;01mif\u001B[39;00m Turtle\u001B[38;5;241m.\u001B[39m_screen \u001B[38;5;129;01mis\u001B[39;00m \u001B[38;5;28;01mNone\u001B[39;00m:\n\u001B[0;32m   3814\u001B[0m     Turtle\u001B[38;5;241m.\u001B[39m_screen \u001B[38;5;241m=\u001B[39m Screen()\n\u001B[1;32m-> 3815\u001B[0m \u001B[43mRawTurtle\u001B[49m\u001B[38;5;241;43m.\u001B[39;49m\u001B[38;5;21;43m__init__\u001B[39;49m\u001B[43m(\u001B[49m\u001B[38;5;28;43mself\u001B[39;49m\u001B[43m,\u001B[49m\u001B[43m \u001B[49m\u001B[43mTurtle\u001B[49m\u001B[38;5;241;43m.\u001B[39;49m\u001B[43m_screen\u001B[49m\u001B[43m,\u001B[49m\n\u001B[0;32m   3816\u001B[0m \u001B[43m                   \u001B[49m\u001B[43mshape\u001B[49m\u001B[38;5;241;43m=\u001B[39;49m\u001B[43mshape\u001B[49m\u001B[43m,\u001B[49m\n\u001B[0;32m   3817\u001B[0m \u001B[43m                   \u001B[49m\u001B[43mundobuffersize\u001B[49m\u001B[38;5;241;43m=\u001B[39;49m\u001B[43mundobuffersize\u001B[49m\u001B[43m,\u001B[49m\n\u001B[0;32m   3818\u001B[0m \u001B[43m                   \u001B[49m\u001B[43mvisible\u001B[49m\u001B[38;5;241;43m=\u001B[39;49m\u001B[43mvisible\u001B[49m\u001B[43m)\u001B[49m\n",
      "File \u001B[1;32m~\\.conda\\envs\\CompBio\\lib\\turtle.py:2557\u001B[0m, in \u001B[0;36mRawTurtle.__init__\u001B[1;34m(self, canvas, shape, undobuffersize, visible)\u001B[0m\n\u001B[0;32m   2555\u001B[0m \u001B[38;5;28mself\u001B[39m\u001B[38;5;241m.\u001B[39m_undobuffersize \u001B[38;5;241m=\u001B[39m undobuffersize\n\u001B[0;32m   2556\u001B[0m \u001B[38;5;28mself\u001B[39m\u001B[38;5;241m.\u001B[39mundobuffer \u001B[38;5;241m=\u001B[39m Tbuffer(undobuffersize)\n\u001B[1;32m-> 2557\u001B[0m \u001B[38;5;28;43mself\u001B[39;49m\u001B[38;5;241;43m.\u001B[39;49m\u001B[43m_update\u001B[49m\u001B[43m(\u001B[49m\u001B[43m)\u001B[49m\n",
      "File \u001B[1;32m~\\.conda\\envs\\CompBio\\lib\\turtle.py:2660\u001B[0m, in \u001B[0;36mRawTurtle._update\u001B[1;34m(self)\u001B[0m\n\u001B[0;32m   2658\u001B[0m     \u001B[38;5;28;01mreturn\u001B[39;00m\n\u001B[0;32m   2659\u001B[0m \u001B[38;5;28;01melif\u001B[39;00m screen\u001B[38;5;241m.\u001B[39m_tracing \u001B[38;5;241m==\u001B[39m \u001B[38;5;241m1\u001B[39m:\n\u001B[1;32m-> 2660\u001B[0m     \u001B[38;5;28;43mself\u001B[39;49m\u001B[38;5;241;43m.\u001B[39;49m\u001B[43m_update_data\u001B[49m\u001B[43m(\u001B[49m\u001B[43m)\u001B[49m\n\u001B[0;32m   2661\u001B[0m     \u001B[38;5;28mself\u001B[39m\u001B[38;5;241m.\u001B[39m_drawturtle()\n\u001B[0;32m   2662\u001B[0m     screen\u001B[38;5;241m.\u001B[39m_update()                  \u001B[38;5;66;03m# TurtleScreenBase\u001B[39;00m\n",
      "File \u001B[1;32m~\\.conda\\envs\\CompBio\\lib\\turtle.py:2646\u001B[0m, in \u001B[0;36mRawTurtle._update_data\u001B[1;34m(self)\u001B[0m\n\u001B[0;32m   2645\u001B[0m \u001B[38;5;28;01mdef\u001B[39;00m \u001B[38;5;21m_update_data\u001B[39m(\u001B[38;5;28mself\u001B[39m):\n\u001B[1;32m-> 2646\u001B[0m     \u001B[38;5;28;43mself\u001B[39;49m\u001B[38;5;241;43m.\u001B[39;49m\u001B[43mscreen\u001B[49m\u001B[38;5;241;43m.\u001B[39;49m\u001B[43m_incrementudc\u001B[49m\u001B[43m(\u001B[49m\u001B[43m)\u001B[49m\n\u001B[0;32m   2647\u001B[0m     \u001B[38;5;28;01mif\u001B[39;00m \u001B[38;5;28mself\u001B[39m\u001B[38;5;241m.\u001B[39mscreen\u001B[38;5;241m.\u001B[39m_updatecounter \u001B[38;5;241m!=\u001B[39m \u001B[38;5;241m0\u001B[39m:\n\u001B[0;32m   2648\u001B[0m         \u001B[38;5;28;01mreturn\u001B[39;00m\n",
      "File \u001B[1;32m~\\.conda\\envs\\CompBio\\lib\\turtle.py:1292\u001B[0m, in \u001B[0;36mTurtleScreen._incrementudc\u001B[1;34m(self)\u001B[0m\n\u001B[0;32m   1290\u001B[0m \u001B[38;5;28;01mif\u001B[39;00m \u001B[38;5;129;01mnot\u001B[39;00m TurtleScreen\u001B[38;5;241m.\u001B[39m_RUNNING:\n\u001B[0;32m   1291\u001B[0m     TurtleScreen\u001B[38;5;241m.\u001B[39m_RUNNING \u001B[38;5;241m=\u001B[39m \u001B[38;5;28;01mTrue\u001B[39;00m\n\u001B[1;32m-> 1292\u001B[0m     \u001B[38;5;28;01mraise\u001B[39;00m Terminator\n\u001B[0;32m   1293\u001B[0m \u001B[38;5;28;01mif\u001B[39;00m \u001B[38;5;28mself\u001B[39m\u001B[38;5;241m.\u001B[39m_tracing \u001B[38;5;241m>\u001B[39m \u001B[38;5;241m0\u001B[39m:\n\u001B[0;32m   1294\u001B[0m     \u001B[38;5;28mself\u001B[39m\u001B[38;5;241m.\u001B[39m_updatecounter \u001B[38;5;241m+\u001B[39m\u001B[38;5;241m=\u001B[39m \u001B[38;5;241m1\u001B[39m\n",
      "\u001B[1;31mTerminator\u001B[0m: "
     ]
    }
   ],
   "source": [
    "import turtle\n",
    "import time\n",
    "\n",
    "def show_poly():\n",
    "    try:\n",
    "        win = turtle.Screen()   # Grab/create a resource, e.g. a window\n",
    "        tess = turtle.Turtle()\n",
    "\n",
    "        # This dialog could be cancelled,\n",
    "        #   or the conversion to int might fail, or n might be zero.\n",
    "        n = int(input(\"How many sides do you want in your polygon?\"))\n",
    "        if n < 0: raise ValueError(f\"{n} is less than 0. We can't make a polygon with neg sides\")\n",
    "        angle = 360 / n\n",
    "        for i in range(n):      # Draw the polygon\n",
    "            tess.forward(20)\n",
    "            tess.left(angle)\n",
    "        time.sleep(3)           # Make program wait a few seconds\n",
    "    except ValueError as e:\n",
    "        print(f'Error: {e}')\n",
    "    finally:\n",
    "        win.bye()               # Close the turtle's window\n",
    "\n",
    "show_poly()"
   ],
   "metadata": {
    "collapsed": false
   }
  },
  {
   "cell_type": "code",
   "execution_count": null,
   "outputs": [],
   "source": [],
   "metadata": {
    "collapsed": false
   }
  },
  {
   "cell_type": "code",
   "execution_count": null,
   "outputs": [],
   "source": [],
   "metadata": {
    "collapsed": false
   }
  }
 ],
 "metadata": {
  "kernelspec": {
   "display_name": "Python 3",
   "language": "python",
   "name": "python3"
  },
  "language_info": {
   "codemirror_mode": {
    "name": "ipython",
    "version": 2
   },
   "file_extension": ".py",
   "mimetype": "text/x-python",
   "name": "python",
   "nbconvert_exporter": "python",
   "pygments_lexer": "ipython2",
   "version": "2.7.6"
  }
 },
 "nbformat": 4,
 "nbformat_minor": 0
}
