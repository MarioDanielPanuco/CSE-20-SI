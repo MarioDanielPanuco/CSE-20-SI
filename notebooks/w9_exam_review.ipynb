{
 "cells": [
  {
   "cell_type": "markdown",
   "source": [
    "# Week 9 Quiz Review\n",
    "\n",
    "## Topics:\n",
    "1. Recursion\n",
    "2. Classes\n",
    "3. Inheritance"
   ],
   "metadata": {
    "collapsed": false
   }
  },
  {
   "cell_type": "code",
   "execution_count": null,
   "metadata": {
    "collapsed": true
   },
   "outputs": [],
   "source": []
  },
  {
   "cell_type": "markdown",
   "source": [
    "## Recursion\n",
    "### Easy\n",
    "- Recursively sum a list\n",
    "### Medium\n",
    "- Reverse a list of integers\n",
    "- Write a recursive function to check if a string is a palindrome.\n",
    "### Medium-Hard\n",
    "- Binary sort (with start code)\n"
   ],
   "metadata": {
    "collapsed": false
   }
  },
  {
   "cell_type": "code",
   "execution_count": null,
   "outputs": [],
   "source": [
    "def reverse_list(l) -> list:\n",
    "    if len(l) == 0 or len(l) == 1:\n",
    "        return l\n",
    "    else:\n",
    "        return reverse_list(l[1:]) + [l[0]]\n",
    "\n",
    "def is_palindrome(string) -> bool:\n",
    "    if len(string) <= 1:\n",
    "        return True\n",
    "    elif string[0] != string[-1]:\n",
    "        return False\n",
    "    else:\n",
    "        return is_palindrome(string[1:-1])\n",
    "\n",
    "def sum_list(l) -> int:\n",
    "    if len(l) == 0:\n",
    "        return 0\n",
    "    elif len(l) == 1:\n",
    "        return l[0]\n",
    "    else:\n",
    "        pass\n",
    "\n",
    "\n",
    "# Returns index target was found at\n",
    "def binary_search(arr, target) -> int:\n",
    "    # Base case: list is empty\n",
    "    if len(arr) == 0:\n",
    "        return -1\n",
    "\n",
    "    m = len(arr) // 2\n",
    "    m_val = arr[m]\n",
    "    # Base case: target is found\n",
    "    if target == m_val:\n",
    "        pass\n",
    "    elif target < m_val:\n",
    "        # Recursive case: target in the left half\n",
    "        pass\n",
    "    else:\n",
    "        # Recursive case: target in the right half\n",
    "        return binary_search(arr[m + 1:], target)\n"
   ],
   "metadata": {
    "collapsed": false
   }
  },
  {
   "cell_type": "markdown",
   "source": [
    "## Classes\n",
    "- Operator Overloading\n",
    "- For information about copying/deep copies see class lecture notes \\#13\n",
    "- is a vs has a\n",
    "- See notesbooks/w8_sess_prep.ipynb"
   ],
   "metadata": {
    "collapsed": false
   }
  },
  {
   "cell_type": "code",
   "execution_count": null,
   "outputs": [],
   "source": [],
   "metadata": {
    "collapsed": false
   }
  },
  {
   "cell_type": "markdown",
   "source": [
    "## Inheritance and Polymorphism"
   ],
   "metadata": {
    "collapsed": false
   }
  },
  {
   "cell_type": "code",
   "execution_count": 1,
   "outputs": [
    {
     "name": "stdout",
     "output_type": "stream",
     "text": [
      "Woof\n",
      "Meow\n"
     ]
    }
   ],
   "source": [
    "# Define the parent class\n",
    "class Animal:\n",
    "    def __init__(self, name):\n",
    "        self.name = name\n",
    "\n",
    "    def speak(self):\n",
    "        raise NotImplementedError(\"Subclass must implement abstract method\")\n",
    "\n",
    "# Define a child class that inherits from Animal\n",
    "class Dog(Animal):\n",
    "    def speak(self):\n",
    "        return \"Woof\"\n",
    "\n",
    "# Define another child class that inherits from Animal\n",
    "class Cat(Animal):\n",
    "    def speak(self):\n",
    "        return \"Meow\"\n",
    "\n",
    "# Define a function that takes an animal object and makes it speak\n",
    "# This is an example of polymorphism. We can use the this function on any class\n",
    "# that inherits from Animal.\n",
    "def make_animal_speak(animal):\n",
    "    return animal.speak()\n",
    "\n",
    "# Create instances of the Dog and Cat classes\n",
    "dog = Dog(\"Rufus\")\n",
    "cat = Cat(\"Whiskers\")\n",
    "\n",
    "# Call the make_animal_speak function on the Dog and Cat instances\n",
    "print(make_animal_speak(dog))  # Output: Woof\n",
    "print(make_animal_speak(cat))  # Output: Meow\n"
   ],
   "metadata": {
    "collapsed": false
   }
  },
  {
   "cell_type": "markdown",
   "source": [
    "## Modules\n"
   ],
   "metadata": {
    "collapsed": false
   }
  }
 ],
 "metadata": {
  "kernelspec": {
   "display_name": "Python 3",
   "language": "python",
   "name": "python3"
  },
  "language_info": {
   "codemirror_mode": {
    "name": "ipython",
    "version": 2
   },
   "file_extension": ".py",
   "mimetype": "text/x-python",
   "name": "python",
   "nbconvert_exporter": "python",
   "pygments_lexer": "ipython2",
   "version": "2.7.6"
  }
 },
 "nbformat": 4,
 "nbformat_minor": 0
}
