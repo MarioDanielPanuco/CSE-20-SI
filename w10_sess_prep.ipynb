{
 "cells": [
  {
   "cell_type": "markdown",
   "source": [
    "# Week 10 Session Prep: Exceptions\n",
    "- We'll start with reviewing exceptions, then try/catch statements, and then we can end the session with student questions/ reviewing earlier material.\n"
   ],
   "metadata": {
    "collapsed": false
   }
  },
  {
   "cell_type": "code",
   "execution_count": 7,
   "metadata": {
    "collapsed": true
   },
   "outputs": [
    {
     "name": "stderr",
     "output_type": "stream",
     "text": [
      ".\n",
      "----------------------------------------------------------------------\n",
      "Ran 1 test in 0.000s\n",
      "\n",
      "OK\n"
     ]
    },
    {
     "data": {
      "text/plain": "<unittest.main.TestProgram at 0x247769d5fc0>"
     },
     "execution_count": 7,
     "metadata": {},
     "output_type": "execute_result"
    }
   ],
   "source": [
    "import unittest\n",
    "\n",
    "def reverse_list(l) -> list:\n",
    "    if len(l) == 0 or len(l) == 1:\n",
    "        return l\n",
    "    else:\n",
    "        return reverse_list(l[1:]) + [l[0]]\n",
    "\n",
    "class FibTest(unittest.TestCase):\n",
    "\n",
    "    def test_fib(self):\n",
    "        self.assertEqual(reverse_list([2,5,8,9]), [9,8,5,2])\n",
    "        self.assertFalse(reverse_list([2,5,8,9]) == [5,2,8,9], \"Message\")\n",
    "\n",
    "\n",
    "unittest.main(argv=[\"\"], exit=False)"
   ]
  },
  {
   "cell_type": "markdown",
   "source": [
    "## Example with try/catch/finally and exceptions"
   ],
   "metadata": {
    "collapsed": false
   }
  },
  {
   "cell_type": "code",
   "execution_count": 8,
   "outputs": [],
   "source": [
    "import turtle\n",
    "import time\n",
    "\n",
    "def show_poly():\n",
    "    try:\n",
    "        win = turtle.Screen()   # Grab/create a resource, e.g. a window\n",
    "        tess = turtle.Turtle()\n",
    "\n",
    "        # This dialog could be cancelled,\n",
    "        #   or the conversion to int might fail, or n might be zero.\n",
    "        n = int(input(\"How many sides do you want in your polygon?\"))\n",
    "        if n < 0: raise ValueError(f\"{n} is less than 0. We can't make a polygon with neg sides\")\n",
    "        angle = 360 / n\n",
    "        for i in range(n):      # Draw the polygon\n",
    "            tess.forward(20)\n",
    "            tess.left(angle)\n",
    "        time.sleep(3)           # Make program wait a few seconds\n",
    "    except ValueError as e:\n",
    "        print(f'Error: {e}')\n",
    "    finally:\n",
    "        win.bye()               # Close the turtle's window\n",
    "\n",
    "show_poly()"
   ],
   "metadata": {
    "collapsed": false
   }
  },
  {
   "cell_type": "markdown",
   "source": [
    "## Reflection\n",
    "- What are your thoughts on testing? Would you use unit testing outside of a large project?\n",
    "- What's something from CSE 20 that you think you'd like more help understanding?"
   ],
   "metadata": {
    "collapsed": false
   }
  }
 ],
 "metadata": {
  "kernelspec": {
   "display_name": "Python 3",
   "language": "python",
   "name": "python3"
  },
  "language_info": {
   "codemirror_mode": {
    "name": "ipython",
    "version": 2
   },
   "file_extension": ".py",
   "mimetype": "text/x-python",
   "name": "python",
   "nbconvert_exporter": "python",
   "pygments_lexer": "ipython2",
   "version": "2.7.6"
  }
 },
 "nbformat": 4,
 "nbformat_minor": 0
}
