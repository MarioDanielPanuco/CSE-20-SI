{
 "cells": [
  {
   "cell_type": "markdown",
   "source": [
    "## Lists\n",
    "- [List Reference](https://python-reference.readthedocs.io/en/latest/docs/list/)\n",
    "- Lists in Python are zero-indexed, meaning you can use 0,1,\\...,n-1 to index the array\n",
    "- dir() function can be used to explore Python objects\n"
   ],
   "metadata": {
    "collapsed": false
   }
  },
  {
   "cell_type": "code",
   "execution_count": null,
   "outputs": [],
   "source": [
    "arr = [\"first\", 2, 8, \"last\"]\n",
    "dir(arr)"
   ],
   "metadata": {
    "collapsed": false
   }
  },
  {
   "cell_type": "markdown",
   "source": [
    "| var   | def                  |\n",
    "|-------|----------------------|\n",
    "| $n$   | length of the object |\n",
    "| $n-1$ | last element         |"
   ],
   "metadata": {
    "collapsed": false
   }
  },
  {
   "cell_type": "code",
   "execution_count": null,
   "outputs": [],
   "source": [
    "print(arr)\n",
    "print(f'Length of arr: {len(arr)}')\n",
    "print(f'1st element: {arr[0]}')  # First element in array\n",
    "print(f'last element: {arr[len(arr) - 1]}')  # last element in array\n",
    "\n"
   ],
   "metadata": {
    "collapsed": false
   }
  },
  {
   "cell_type": "markdown",
   "source": [
    "- You can put a list object inside another list.\n",
    "- Aside: This is typically thought of as a matrix and there are libraries like numpy that optimize for matrix operations\n",
    "[numpy](https://numpy.org/)"
   ],
   "metadata": {
    "collapsed": false
   }
  },
  {
   "cell_type": "code",
   "execution_count": null,
   "outputs": [],
   "source": [
    "matrix = [[1, 2], [3, 4]]\n",
    "print(f'Matrix: {matrix}')"
   ],
   "metadata": {
    "collapsed": false
   }
  },
  {
   "cell_type": "code",
   "execution_count": null,
   "outputs": [],
   "source": [
    "import numpy as np\n",
    "zeros = np.zeros((2,2))\n",
    "print(f'numpy zeros matrix:\\n{zeros}')"
   ],
   "metadata": {
    "collapsed": false
   }
  },
  {
   "cell_type": "markdown",
   "source": [
    "## Dictionary Basics\n",
    "- Dictionaries map a key $k$ from set of keys $Keys$ to a value $v$ from a set of values $Values$\n",
    "- The keys and values don't have to be of the same type"
   ],
   "metadata": {
    "collapsed": false
   }
  },
  {
   "cell_type": "code",
   "execution_count": null,
   "outputs": [],
   "source": [
    "fruit_costs = {\"apples\": 430, \"bananas\": 312, \"oranges\": 525, \"pears\": 217}"
   ],
   "metadata": {
    "collapsed": false
   }
  },
  {
   "cell_type": "code",
   "execution_count": null,
   "outputs": [],
   "source": [
    "fruit_costs['apples']"
   ],
   "metadata": {
    "collapsed": false
   }
  },
  {
   "cell_type": "markdown",
   "source": [],
   "metadata": {
    "collapsed": false
   }
  },
  {
   "cell_type": "markdown",
   "source": [
    "## Conditionals and Branching"
   ],
   "metadata": {
    "collapsed": false
   }
  },
  {
   "cell_type": "code",
   "execution_count": null,
   "outputs": [],
   "source": [
    "import time\n",
    "time_1 = time.monotonic_ns()\n",
    "def process():\n",
    "    time.sleep(1) # Sleeps to change time_2s time significantly\n",
    "process()\n",
    "time_2 = time.monotonic_ns()\n",
    "if time_1 < time_2:\n",
    "    print(f'time_1 happened first')\n",
    "else:\n",
    "    print(f'time_2 happened first')"
   ],
   "metadata": {
    "collapsed": false
   }
  },
  {
   "cell_type": "code",
   "execution_count": null,
   "outputs": [],
   "source": [
    "import random\n",
    "result = \"h\"  if random.random() > 0.5 else \"t\"\n",
    "print(f\"result: {result}\")"
   ],
   "metadata": {
    "collapsed": false
   }
  },
  {
   "cell_type": "code",
   "execution_count": null,
   "outputs": [],
   "source": [],
   "metadata": {
    "collapsed": false
   }
  },
  {
   "cell_type": "markdown",
   "source": [
    "## For loops"
   ],
   "metadata": {
    "collapsed": false
   }
  },
  {
   "cell_type": "code",
   "execution_count": 48,
   "outputs": [
    {
     "name": "stdout",
     "output_type": "stream",
     "text": [
      "x: [0, 1, 2, 3, 4, 5, 6, 7, 8, 9]\n",
      "challenge: [0, 1, 8, 27, 64]\n"
     ]
    }
   ],
   "source": [
    "# Building lists in line\n",
    "x = [n for n in range(0,10)]\n",
    "print(f\"x: {x}\")\n",
    "challenge = [n**3 for n in range(0,5)]\n",
    "print(f\"challenge: {challenge}\")"
   ],
   "metadata": {
    "collapsed": false
   }
  },
  {
   "cell_type": "code",
   "execution_count": null,
   "outputs": [],
   "source": [],
   "metadata": {
    "collapsed": false
   }
  }
 ],
 "metadata": {
  "kernelspec": {
   "display_name": "Python 3",
   "language": "python",
   "name": "python3"
  },
  "language_info": {
   "codemirror_mode": {
    "name": "ipython",
    "version": 2
   },
   "file_extension": ".py",
   "mimetype": "text/x-python",
   "name": "python",
   "nbconvert_exporter": "python",
   "pygments_lexer": "ipython2",
   "version": "2.7.6"
  }
 },
 "nbformat": 4,
 "nbformat_minor": 0
}
