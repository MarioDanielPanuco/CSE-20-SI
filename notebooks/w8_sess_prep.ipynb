{
 "cells": [
  {
   "attachments": {},
   "cell_type": "markdown",
   "metadata": {
    "collapsed": false
   },
   "source": [
    "# Week 8 Session Prep Sheet\n",
    "- This week we're covering classes"
   ]
  },
  {
   "attachments": {},
   "cell_type": "markdown",
   "metadata": {
    "collapsed": false
   },
   "source": [
    "## Creating a class with fields\n",
    "- Below I create a class \"Vehicle\" that we will inherit from when we create other objects\n",
    "- Vehicles hold the fields: make, model, year, and weight"
   ]
  },
  {
   "cell_type": "code",
   "execution_count": 8,
   "metadata": {
    "collapsed": true
   },
   "outputs": [],
   "source": [
    "class Vehicle:\n",
    "    def __init__(self, make, model, year, weight):\n",
    "        self.make = make\n",
    "        self.model = model\n",
    "        self.year = year\n",
    "        self.weight = weight\n",
    "\n",
    "    def start(self):\n",
    "        print(f\"{self.make} {self.model}: starting...\")\n",
    "\n",
    "    def stop(self):\n",
    "        print(f\"{self.make} {self.model}: stopping...\")\n",
    "\n",
    "    def accel(self):\n",
    "        print(f\"{self.make} {self.model}: accellerating...\")\n"
   ]
  },
  {
   "cell_type": "markdown",
   "metadata": {
    "collapsed": false
   },
   "source": [
    "## Inheritance"
   ]
  },
  {
   "cell_type": "code",
   "execution_count": 9,
   "metadata": {
    "collapsed": false
   },
   "outputs": [
    {
     "name": "stdout",
     "output_type": "stream",
     "text": [
      "Toyota Corolla: starting...\n"
     ]
    },
    {
     "ename": "AttributeError",
     "evalue": "'Car' object has no attribute 'drive'",
     "output_type": "error",
     "traceback": [
      "\u001b[0;31m---------------------------------------------------------------------------\u001b[0m",
      "\u001b[0;31mAttributeError\u001b[0m                            Traceback (most recent call last)",
      "Cell \u001b[0;32mIn[9], line 20\u001b[0m\n\u001b[1;32m     18\u001b[0m my_car \u001b[39m=\u001b[39m Car(\u001b[39m\"\u001b[39m\u001b[39mToyota\u001b[39m\u001b[39m\"\u001b[39m, \u001b[39m\"\u001b[39m\u001b[39mCorolla\u001b[39m\u001b[39m\"\u001b[39m, \u001b[39m2022\u001b[39m, \u001b[39m3000\u001b[39m, \u001b[39m4\u001b[39m)\n\u001b[1;32m     19\u001b[0m my_car\u001b[39m.\u001b[39mstart()\n\u001b[0;32m---> 20\u001b[0m my_car\u001b[39m.\u001b[39;49mdrive()\n\u001b[1;32m     21\u001b[0m my_car\u001b[39m.\u001b[39mhonk()\n\u001b[1;32m     23\u001b[0m my_truck \u001b[39m=\u001b[39m Truck(\u001b[39m\"\u001b[39m\u001b[39mFord\u001b[39m\u001b[39m\"\u001b[39m, \u001b[39m\"\u001b[39m\u001b[39mF-150\u001b[39m\u001b[39m\"\u001b[39m, \u001b[39m2022\u001b[39m, \u001b[39m5000\u001b[39m, \u001b[39m10000\u001b[39m)\n",
      "\u001b[0;31mAttributeError\u001b[0m: 'Car' object has no attribute 'drive'"
     ]
    }
   ],
   "source": [
    "class Car(Vehicle):\n",
    "    def __init__(self, make, model, year, weight, num_doors):\n",
    "        super().__init__(make, model, year, weight)\n",
    "        self.num_doors = num_doors\n",
    "\n",
    "    @staticmethod # this is a static method because we don't access/modify any of the object's fields\n",
    "    def honk():\n",
    "        print(\"Beep beep!\")\n",
    "\n",
    "class Truck(Vehicle):\n",
    "    def __init__(self, make, model, year, weight, payload_capacity):\n",
    "        super().__init__(make, model, year, weight)\n",
    "        self.payload_capacity = payload_capacity\n",
    "\n",
    "    def haul(self):\n",
    "        print(f\"Hauling up to {self.payload_capacity} pounds...\")\n",
    "\n",
    "my_car = Car(\"Toyota\", \"Corolla\", 2022, 3000, 4)\n",
    "my_car.start()\n",
    "my_car.drive()\n",
    "my_car.honk()\n",
    "\n",
    "my_truck = Truck(\"Ford\", \"F-150\", 2022, 5000, 10000)\n",
    "my_truck.start()\n",
    "my_truck.drive()\n",
    "my_truck.haul()"
   ]
  },
  {
   "cell_type": "markdown",
   "metadata": {
    "collapsed": false
   },
   "source": [
    "Now lets create a Plane class that inherits from the Vehicle class since we need to store some of the same information"
   ]
  },
  {
   "cell_type": "code",
   "execution_count": null,
   "metadata": {
    "collapsed": false
   },
   "outputs": [
    {
     "name": "stdout",
     "output_type": "stream",
     "text": [
      "Boarding up to 400 passengers...\n",
      "Boeing 747 flying 6000 miles...\n",
      "Boeing 747 starting...\n"
     ]
    }
   ],
   "source": [
    "class Plane(Vehicle):\n",
    "    def __init__(self, make, model, year, weight, fuel_capacity, range):\n",
    "        super().__init__(make, model, year, weight)\n",
    "        self.fuel_capacity = fuel_capacity\n",
    "        self.range = range\n",
    "\n",
    "    def fly(self, distance):\n",
    "        max_distance = self.fuel_capacity * 0.8\n",
    "        if distance > max_distance:\n",
    "            print(f\"{self.make} {self.model} cannot fly {distance} miles; maximum range is {max_distance} miles.\")\n",
    "        else:\n",
    "            print(f\"{self.make} {self.model}: flying {distance} miles...\")\n",
    "\n",
    "class CommercialPlane(Plane):\n",
    "    def __init__(self, make, model, year, weight, fuel_capacity, range, passenger_capacity):\n",
    "        super().__init__(make, model, year, weight, fuel_capacity, range)\n",
    "        self.passenger_capacity = passenger_capacity\n",
    "\n",
    "    def board_passengers(self):\n",
    "        print(f\"Boarding up to {self.passenger_capacity} passengers...\")\n",
    "\n",
    "my_plane = CommercialPlane(make=\"Boeing\", model=\"747\", year=2022, weight=50000, fuel_capacity=10000, range=5000, passenger_capacity=400)\n",
    "my_plane.board_passengers()\n",
    "my_plane.fly(6000)\n",
    "my_plane.start()"
   ]
  },
  {
   "cell_type": "markdown",
   "metadata": {
    "collapsed": false
   },
   "source": [
    "## Challenge:\n",
    "Create a class called Airport that manages incoming flights. The Airport class should have the following methods:\n",
    "\n",
    "1. __init__ method which initializes an empty dictionary to hold incoming planes.\n",
    "2. add_plane method that takes in a Plane or CommercialPlane object and adds it to the dictionary with the plane model as the key.\n",
    "3. remove_plane method that takes in a plane model and removes the corresponding Plane or CommercialPlane object from the dictionary.\n",
    "4. get_planes method that returns the list of all Plane and CommercialPlane objects that are currently in the airport.\n",
    "\n",
    "Additionally, the Airport class should inherit from the Vehicle class so that all airplanes in the airport are also vehicles.\n",
    "\n",
    "Your challenge is to create the Airport class and test it with some Plane and CommercialPlane objects.\n",
    "\n"
   ]
  },
  {
   "cell_type": "code",
   "execution_count": null,
   "metadata": {
    "collapsed": false
   },
   "outputs": [
    {
     "ename": "TypeError",
     "evalue": "__str__ returned non-string (type list)",
     "output_type": "error",
     "traceback": [
      "\u001b[0;31m---------------------------------------------------------------------------\u001b[0m",
      "\u001b[0;31mTypeError\u001b[0m                                 Traceback (most recent call last)",
      "Cell \u001b[0;32mIn[1], line 26\u001b[0m\n\u001b[1;32m     22\u001b[0m \u001b[39m# TODO: Create some Plane and CommercialPlane objects and test your Airport class with them\u001b[39;00m\n\u001b[1;32m     23\u001b[0m \n\u001b[1;32m     24\u001b[0m \u001b[39m# Initializing SFO with size 10\u001b[39;00m\n\u001b[1;32m     25\u001b[0m SFO \u001b[39m=\u001b[39m Airport(\u001b[39m10\u001b[39m)\n\u001b[0;32m---> 26\u001b[0m \u001b[39mprint\u001b[39m(\u001b[39mf\u001b[39m\u001b[39m\"\u001b[39m\u001b[39m{\u001b[39;00mSFO\u001b[39m}\u001b[39;00m\u001b[39m\"\u001b[39m)\n",
      "\u001b[0;31mTypeError\u001b[0m: __str__ returned non-string (type list)"
     ]
    }
   ],
   "source": [
    "class Airport:\n",
    "    def __init__(self, size):\n",
    "        self.size = size\n",
    "        self.planes = {}\n",
    "\n",
    "    def add_plane(self, plane):\n",
    "        if len(self.planes) + 1 > self.size:\n",
    "            return\n",
    "        else:\n",
    "            # Add the plane to the dictionary using the model as the key\n",
    "            self.planes[plane.model] = plane\n",
    "\n",
    "    def remove_plane(self, model):\n",
    "        # TODO: Remove the plane with the given model from the dictionary\n",
    "        del self.planes[model]\n",
    "\n",
    "    # We are implementing str for this Airport object. This means we can later call str(Airport_obj)\n",
    "    def __str__(self):\n",
    "        # TODO: Return a list of all the planes currently in the dictionary\n",
    "        return str(list(self.planes.keys()))\n",
    "\n",
    "# TODO: Create some Plane and CommercialPlane objects and test your Airport class with them\n",
    "\n",
    "# Initializing SFO with size 10\n",
    "SFO = Airport(10)\n",
    "print(f\"{SFO}\")"
   ]
  },
  {
   "cell_type": "code",
   "execution_count": null,
   "metadata": {
    "collapsed": false
   },
   "outputs": [],
   "source": []
  }
 ],
 "metadata": {
  "kernelspec": {
   "display_name": "Python 3",
   "language": "python",
   "name": "python3"
  },
  "language_info": {
   "codemirror_mode": {
    "name": "ipython",
    "version": 3
   },
   "file_extension": ".py",
   "mimetype": "text/x-python",
   "name": "python",
   "nbconvert_exporter": "python",
   "pygments_lexer": "ipython3",
   "version": "3.10.4"
  }
 },
 "nbformat": 4,
 "nbformat_minor": 0
}
